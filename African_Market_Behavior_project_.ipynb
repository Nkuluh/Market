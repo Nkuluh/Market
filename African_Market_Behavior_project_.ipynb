{
  "nbformat": 4,
  "nbformat_minor": 0,
  "metadata": {
    "colab": {
      "provenance": [],
      "authorship_tag": "ABX9TyMUyR1acQRqDY6iQGZviLoQ",
      "include_colab_link": true
    },
    "kernelspec": {
      "name": "python3",
      "display_name": "Python 3"
    },
    "language_info": {
      "name": "python"
    }
  },
  "cells": [
    {
      "cell_type": "markdown",
      "metadata": {
        "id": "view-in-github",
        "colab_type": "text"
      },
      "source": [
        "<a href=\"https://colab.research.google.com/github/Nkuluh/Market/blob/main/African_Market_Behavior_project_.ipynb\" target=\"_parent\"><img src=\"https://colab.research.google.com/assets/colab-badge.svg\" alt=\"Open In Colab\"/></a>"
      ]
    },
    {
      "cell_type": "code",
      "execution_count": null,
      "metadata": {
        "id": "Qnlg4-7OWLa0"
      },
      "outputs": [],
      "source": [
        "library(ggplot2)"
      ]
    },
    {
      "cell_type": "code",
      "source": [],
      "metadata": {
        "id": "u27ER4joLZU2"
      },
      "execution_count": 1,
      "outputs": []
    },
    {
      "cell_type": "markdown",
      "source": [
        "importing required libraries\n"
      ],
      "metadata": {
        "id": "Y3Pe4QUwvYEk"
      }
    },
    {
      "cell_type": "code",
      "source": [
        "import pandas as pd\n",
        "import numpy as np\n",
        "import matplotlib.pyplot as plt\n",
        "import seaborn as sns"
      ],
      "metadata": {
        "id": "9eJ1_eDoc1aT"
      },
      "execution_count": 2,
      "outputs": []
    },
    {
      "cell_type": "markdown",
      "source": [
        "reading the dataset using appropriate method"
      ],
      "metadata": {
        "id": "NyeRq9rRvhpe"
      }
    },
    {
      "cell_type": "code",
      "source": [
        "a= pd.read_csv(\"Obs.csv\")"
      ],
      "metadata": {
        "id": "J5OsRKfmd-pH"
      },
      "execution_count": 4,
      "outputs": []
    },
    {
      "cell_type": "markdown",
      "source": [
        "Checking the first five rows"
      ],
      "metadata": {
        "id": "BZxNaERYvt3h"
      }
    },
    {
      "cell_type": "code",
      "source": [
        "a.head()"
      ],
      "metadata": {
        "colab": {
          "base_uri": "https://localhost:8080/",
          "height": 421
        },
        "id": "8KNCoRT8eUtT",
        "outputId": "38cdebe1-e396-451a-d909-bb0f3531195d"
      },
      "execution_count": 5,
      "outputs": [
        {
          "output_type": "execute_result",
          "data": {
            "text/plain": [
              "  Country  Year  Real per Capita GDP Growth Rate (annual %)  \\\n",
              "0  Malawi  1980                                         NaN   \n",
              "1  Malawi  1981                                      -13.06   \n",
              "2  Malawi  1982                                       -0.93   \n",
              "3  Malawi  1983                                        1.56   \n",
              "4  Malawi  1984                                        0.54   \n",
              "\n",
              "   Real GDP growth (annual %)  Gross domestic product, (constant prices US$)  \\\n",
              "0                         NaN                                        3038.14   \n",
              "1                      -10.81                                        2709.74   \n",
              "2                        1.44                                        2748.84   \n",
              "3                        4.21                                        2864.70   \n",
              "4                        3.92                                        2976.95   \n",
              "\n",
              "   Gross domestic product, current prices (current US$)  \\\n",
              "0                                            2236.36      \n",
              "1                                            2236.40      \n",
              "2                                            2113.68      \n",
              "3                                            2203.66      \n",
              "4                                            2157.88      \n",
              "\n",
              "   Final consumption expenditure  (current US$)  \\\n",
              "0                                       1104.30   \n",
              "1                                       1091.26   \n",
              "2                                       1002.45   \n",
              "3                                       1037.06   \n",
              "4                                       1028.95   \n",
              "\n",
              "   General government final consumption expenditure (current US$)  \\\n",
              "0                                             238.76                \n",
              "1                                             221.16                \n",
              "2                                             206.82                \n",
              "3                                             200.81                \n",
              "4                                             189.62                \n",
              "\n",
              "   Household final consumption expenditure (current US$)  \\\n",
              "0                                             865.54       \n",
              "1                                             870.10       \n",
              "2                                             795.63       \n",
              "3                                             836.26       \n",
              "4                                             839.34       \n",
              "\n",
              "   Gross capital formation (current US$)  ...  \\\n",
              "0                                 306.24  ...   \n",
              "1                                 218.14  ...   \n",
              "2                                 252.58  ...   \n",
              "3                                 278.87  ...   \n",
              "4                                 155.58  ...   \n",
              "\n",
              "   Imports of goods and services (% of GDP)  \\\n",
              "0                                     21.48   \n",
              "1                                     17.41   \n",
              "2                                     16.10   \n",
              "3                                     15.73   \n",
              "4                                     14.79   \n",
              "\n",
              "   Central government, Fiscal Balance (Current US $)  \\\n",
              "0                                            -142.96   \n",
              "1                                            -133.47   \n",
              "2                                            -119.21   \n",
              "3                                             -96.80   \n",
              "4                                             -78.94   \n",
              "\n",
              "   Central government, total revenue and grants  (Current US $)  \\\n",
              "0                                             298.61              \n",
              "1                                             276.61              \n",
              "2                                             254.71              \n",
              "3                                             250.68              \n",
              "4                                             239.30              \n",
              "\n",
              "   Central government, total expenditure and net lending  (Current US $)  \\\n",
              "0                                             441.57                       \n",
              "1                                             410.09                       \n",
              "2                                             373.92                       \n",
              "3                                             347.48                       \n",
              "4                                             318.24                       \n",
              "\n",
              "   Central government, Fiscal Balance (% of GDP)  \\\n",
              "0                                          -6.39   \n",
              "1                                          -5.97   \n",
              "2                                          -5.64   \n",
              "3                                          -4.39   \n",
              "4                                          -3.66   \n",
              "\n",
              "   Central government, total revenue and grants  (% of GDP)  \\\n",
              "0                                              13.35          \n",
              "1                                              12.37          \n",
              "2                                              12.05          \n",
              "3                                              11.38          \n",
              "4                                              11.09          \n",
              "\n",
              "   Central government, total expenditure and net lending  (% of GDP)  \\\n",
              "0                                              19.75                   \n",
              "1                                              18.34                   \n",
              "2                                              17.69                   \n",
              "3                                              15.77                   \n",
              "4                                              14.75                   \n",
              "\n",
              "   Current account balance (Net, BoP, cur. US$)  \\\n",
              "0                                       -207.07   \n",
              "1                                        -86.71   \n",
              "2                                        -91.15   \n",
              "3                                       -103.94   \n",
              "4                                          3.88   \n",
              "\n",
              "   Current account balance (As % of GDP)  \\\n",
              "0                                  -9.26   \n",
              "1                                  -3.88   \n",
              "2                                  -4.31   \n",
              "3                                  -4.72   \n",
              "4                                   0.18   \n",
              "\n",
              "   Inflation, consumer prices (annual %)  \n",
              "0                                    NaN  \n",
              "1                                  12.01  \n",
              "2                                   9.52  \n",
              "3                                  13.77  \n",
              "4                                  19.74  \n",
              "\n",
              "[5 rows x 31 columns]"
            ],
            "text/html": [
              "\n",
              "  <div id=\"df-be68b06e-3dd4-49e3-9120-65c2f5c7d1de\">\n",
              "    <div class=\"colab-df-container\">\n",
              "      <div>\n",
              "<style scoped>\n",
              "    .dataframe tbody tr th:only-of-type {\n",
              "        vertical-align: middle;\n",
              "    }\n",
              "\n",
              "    .dataframe tbody tr th {\n",
              "        vertical-align: top;\n",
              "    }\n",
              "\n",
              "    .dataframe thead th {\n",
              "        text-align: right;\n",
              "    }\n",
              "</style>\n",
              "<table border=\"1\" class=\"dataframe\">\n",
              "  <thead>\n",
              "    <tr style=\"text-align: right;\">\n",
              "      <th></th>\n",
              "      <th>Country</th>\n",
              "      <th>Year</th>\n",
              "      <th>Real per Capita GDP Growth Rate (annual %)</th>\n",
              "      <th>Real GDP growth (annual %)</th>\n",
              "      <th>Gross domestic product, (constant prices US$)</th>\n",
              "      <th>Gross domestic product, current prices (current US$)</th>\n",
              "      <th>Final consumption expenditure  (current US$)</th>\n",
              "      <th>General government final consumption expenditure (current US$)</th>\n",
              "      <th>Household final consumption expenditure (current US$)</th>\n",
              "      <th>Gross capital formation (current US$)</th>\n",
              "      <th>...</th>\n",
              "      <th>Imports of goods and services (% of GDP)</th>\n",
              "      <th>Central government, Fiscal Balance (Current US $)</th>\n",
              "      <th>Central government, total revenue and grants  (Current US $)</th>\n",
              "      <th>Central government, total expenditure and net lending  (Current US $)</th>\n",
              "      <th>Central government, Fiscal Balance (% of GDP)</th>\n",
              "      <th>Central government, total revenue and grants  (% of GDP)</th>\n",
              "      <th>Central government, total expenditure and net lending  (% of GDP)</th>\n",
              "      <th>Current account balance (Net, BoP, cur. US$)</th>\n",
              "      <th>Current account balance (As % of GDP)</th>\n",
              "      <th>Inflation, consumer prices (annual %)</th>\n",
              "    </tr>\n",
              "  </thead>\n",
              "  <tbody>\n",
              "    <tr>\n",
              "      <th>0</th>\n",
              "      <td>Malawi</td>\n",
              "      <td>1980</td>\n",
              "      <td>NaN</td>\n",
              "      <td>NaN</td>\n",
              "      <td>3038.14</td>\n",
              "      <td>2236.36</td>\n",
              "      <td>1104.30</td>\n",
              "      <td>238.76</td>\n",
              "      <td>865.54</td>\n",
              "      <td>306.24</td>\n",
              "      <td>...</td>\n",
              "      <td>21.48</td>\n",
              "      <td>-142.96</td>\n",
              "      <td>298.61</td>\n",
              "      <td>441.57</td>\n",
              "      <td>-6.39</td>\n",
              "      <td>13.35</td>\n",
              "      <td>19.75</td>\n",
              "      <td>-207.07</td>\n",
              "      <td>-9.26</td>\n",
              "      <td>NaN</td>\n",
              "    </tr>\n",
              "    <tr>\n",
              "      <th>1</th>\n",
              "      <td>Malawi</td>\n",
              "      <td>1981</td>\n",
              "      <td>-13.06</td>\n",
              "      <td>-10.81</td>\n",
              "      <td>2709.74</td>\n",
              "      <td>2236.40</td>\n",
              "      <td>1091.26</td>\n",
              "      <td>221.16</td>\n",
              "      <td>870.10</td>\n",
              "      <td>218.14</td>\n",
              "      <td>...</td>\n",
              "      <td>17.41</td>\n",
              "      <td>-133.47</td>\n",
              "      <td>276.61</td>\n",
              "      <td>410.09</td>\n",
              "      <td>-5.97</td>\n",
              "      <td>12.37</td>\n",
              "      <td>18.34</td>\n",
              "      <td>-86.71</td>\n",
              "      <td>-3.88</td>\n",
              "      <td>12.01</td>\n",
              "    </tr>\n",
              "    <tr>\n",
              "      <th>2</th>\n",
              "      <td>Malawi</td>\n",
              "      <td>1982</td>\n",
              "      <td>-0.93</td>\n",
              "      <td>1.44</td>\n",
              "      <td>2748.84</td>\n",
              "      <td>2113.68</td>\n",
              "      <td>1002.45</td>\n",
              "      <td>206.82</td>\n",
              "      <td>795.63</td>\n",
              "      <td>252.58</td>\n",
              "      <td>...</td>\n",
              "      <td>16.10</td>\n",
              "      <td>-119.21</td>\n",
              "      <td>254.71</td>\n",
              "      <td>373.92</td>\n",
              "      <td>-5.64</td>\n",
              "      <td>12.05</td>\n",
              "      <td>17.69</td>\n",
              "      <td>-91.15</td>\n",
              "      <td>-4.31</td>\n",
              "      <td>9.52</td>\n",
              "    </tr>\n",
              "    <tr>\n",
              "      <th>3</th>\n",
              "      <td>Malawi</td>\n",
              "      <td>1983</td>\n",
              "      <td>1.56</td>\n",
              "      <td>4.21</td>\n",
              "      <td>2864.70</td>\n",
              "      <td>2203.66</td>\n",
              "      <td>1037.06</td>\n",
              "      <td>200.81</td>\n",
              "      <td>836.26</td>\n",
              "      <td>278.87</td>\n",
              "      <td>...</td>\n",
              "      <td>15.73</td>\n",
              "      <td>-96.80</td>\n",
              "      <td>250.68</td>\n",
              "      <td>347.48</td>\n",
              "      <td>-4.39</td>\n",
              "      <td>11.38</td>\n",
              "      <td>15.77</td>\n",
              "      <td>-103.94</td>\n",
              "      <td>-4.72</td>\n",
              "      <td>13.77</td>\n",
              "    </tr>\n",
              "    <tr>\n",
              "      <th>4</th>\n",
              "      <td>Malawi</td>\n",
              "      <td>1984</td>\n",
              "      <td>0.54</td>\n",
              "      <td>3.92</td>\n",
              "      <td>2976.95</td>\n",
              "      <td>2157.88</td>\n",
              "      <td>1028.95</td>\n",
              "      <td>189.62</td>\n",
              "      <td>839.34</td>\n",
              "      <td>155.58</td>\n",
              "      <td>...</td>\n",
              "      <td>14.79</td>\n",
              "      <td>-78.94</td>\n",
              "      <td>239.30</td>\n",
              "      <td>318.24</td>\n",
              "      <td>-3.66</td>\n",
              "      <td>11.09</td>\n",
              "      <td>14.75</td>\n",
              "      <td>3.88</td>\n",
              "      <td>0.18</td>\n",
              "      <td>19.74</td>\n",
              "    </tr>\n",
              "  </tbody>\n",
              "</table>\n",
              "<p>5 rows × 31 columns</p>\n",
              "</div>\n",
              "      <button class=\"colab-df-convert\" onclick=\"convertToInteractive('df-be68b06e-3dd4-49e3-9120-65c2f5c7d1de')\"\n",
              "              title=\"Convert this dataframe to an interactive table.\"\n",
              "              style=\"display:none;\">\n",
              "        \n",
              "  <svg xmlns=\"http://www.w3.org/2000/svg\" height=\"24px\"viewBox=\"0 0 24 24\"\n",
              "       width=\"24px\">\n",
              "    <path d=\"M0 0h24v24H0V0z\" fill=\"none\"/>\n",
              "    <path d=\"M18.56 5.44l.94 2.06.94-2.06 2.06-.94-2.06-.94-.94-2.06-.94 2.06-2.06.94zm-11 1L8.5 8.5l.94-2.06 2.06-.94-2.06-.94L8.5 2.5l-.94 2.06-2.06.94zm10 10l.94 2.06.94-2.06 2.06-.94-2.06-.94-.94-2.06-.94 2.06-2.06.94z\"/><path d=\"M17.41 7.96l-1.37-1.37c-.4-.4-.92-.59-1.43-.59-.52 0-1.04.2-1.43.59L10.3 9.45l-7.72 7.72c-.78.78-.78 2.05 0 2.83L4 21.41c.39.39.9.59 1.41.59.51 0 1.02-.2 1.41-.59l7.78-7.78 2.81-2.81c.8-.78.8-2.07 0-2.86zM5.41 20L4 18.59l7.72-7.72 1.47 1.35L5.41 20z\"/>\n",
              "  </svg>\n",
              "      </button>\n",
              "      \n",
              "  <style>\n",
              "    .colab-df-container {\n",
              "      display:flex;\n",
              "      flex-wrap:wrap;\n",
              "      gap: 12px;\n",
              "    }\n",
              "\n",
              "    .colab-df-convert {\n",
              "      background-color: #E8F0FE;\n",
              "      border: none;\n",
              "      border-radius: 50%;\n",
              "      cursor: pointer;\n",
              "      display: none;\n",
              "      fill: #1967D2;\n",
              "      height: 32px;\n",
              "      padding: 0 0 0 0;\n",
              "      width: 32px;\n",
              "    }\n",
              "\n",
              "    .colab-df-convert:hover {\n",
              "      background-color: #E2EBFA;\n",
              "      box-shadow: 0px 1px 2px rgba(60, 64, 67, 0.3), 0px 1px 3px 1px rgba(60, 64, 67, 0.15);\n",
              "      fill: #174EA6;\n",
              "    }\n",
              "\n",
              "    [theme=dark] .colab-df-convert {\n",
              "      background-color: #3B4455;\n",
              "      fill: #D2E3FC;\n",
              "    }\n",
              "\n",
              "    [theme=dark] .colab-df-convert:hover {\n",
              "      background-color: #434B5C;\n",
              "      box-shadow: 0px 1px 3px 1px rgba(0, 0, 0, 0.15);\n",
              "      filter: drop-shadow(0px 1px 2px rgba(0, 0, 0, 0.3));\n",
              "      fill: #FFFFFF;\n",
              "    }\n",
              "  </style>\n",
              "\n",
              "      <script>\n",
              "        const buttonEl =\n",
              "          document.querySelector('#df-be68b06e-3dd4-49e3-9120-65c2f5c7d1de button.colab-df-convert');\n",
              "        buttonEl.style.display =\n",
              "          google.colab.kernel.accessAllowed ? 'block' : 'none';\n",
              "\n",
              "        async function convertToInteractive(key) {\n",
              "          const element = document.querySelector('#df-be68b06e-3dd4-49e3-9120-65c2f5c7d1de');\n",
              "          const dataTable =\n",
              "            await google.colab.kernel.invokeFunction('convertToInteractive',\n",
              "                                                     [key], {});\n",
              "          if (!dataTable) return;\n",
              "\n",
              "          const docLinkHtml = 'Like what you see? Visit the ' +\n",
              "            '<a target=\"_blank\" href=https://colab.research.google.com/notebooks/data_table.ipynb>data table notebook</a>'\n",
              "            + ' to learn more about interactive tables.';\n",
              "          element.innerHTML = '';\n",
              "          dataTable['output_type'] = 'display_data';\n",
              "          await google.colab.output.renderOutput(dataTable, element);\n",
              "          const docLink = document.createElement('div');\n",
              "          docLink.innerHTML = docLinkHtml;\n",
              "          element.appendChild(docLink);\n",
              "        }\n",
              "      </script>\n",
              "    </div>\n",
              "  </div>\n",
              "  "
            ]
          },
          "metadata": {},
          "execution_count": 5
        }
      ]
    },
    {
      "cell_type": "markdown",
      "source": [
        "looking for unique countries"
      ],
      "metadata": {
        "id": "1lyAzTFbv9H-"
      }
    },
    {
      "cell_type": "code",
      "source": [
        "a['Country'].unique()"
      ],
      "metadata": {
        "colab": {
          "base_uri": "https://localhost:8080/"
        },
        "id": "9XD6YcMvjjrl",
        "outputId": "7a265fc3-cbaa-471d-852b-244a7d42cb28"
      },
      "execution_count": 6,
      "outputs": [
        {
          "output_type": "execute_result",
          "data": {
            "text/plain": [
              "array(['Malawi', 'Algeria', 'Angola', 'Benin', 'Botswana', 'Burkina Faso',\n",
              "       'Burundi', 'Cameroon', 'Cabo Verde', 'Central African Republic',\n",
              "       'Chad', 'Comoros', 'Congo, Dem. Rep.', 'Congo, Rep.',\n",
              "       \"Cote d'Ivoire\", 'Djibouti', 'Egypt', 'Equatorial Guinea',\n",
              "       'Eritrea', 'eSwatini', 'Ethiopia', 'Gabon', 'Gambia', 'Ghana',\n",
              "       'Guinea', 'Guinea-Bissau', 'Kenya', 'Lesotho', 'Liberia', 'Libya',\n",
              "       'Madagascar', 'Mali', 'Mauritania', 'Mauritius', 'Morocco',\n",
              "       'Mozambique', 'Namibia', 'Niger', 'Nigeria', 'Rwanda',\n",
              "       'Sao Tome and Principe', 'Senegal', 'Seychelles', 'Sierra Leone',\n",
              "       'Somalia', 'South Africa', 'South Sudan', 'Sudan', 'Tanzania',\n",
              "       'Togo', 'Tunisia', 'Uganda', 'Zambia', 'Zimbabwe'], dtype=object)"
            ]
          },
          "metadata": {},
          "execution_count": 6
        }
      ]
    },
    {
      "cell_type": "markdown",
      "source": [
        "filtering the data by year"
      ],
      "metadata": {
        "id": "L8mpOKtlwJFg"
      }
    },
    {
      "cell_type": "code",
      "source": [
        "#a.loc[(a['Year'] == \"2020\") & (a['Year'] == '2022')]\n",
        "df = a[a['Year'].between(2018, 2022)]"
      ],
      "metadata": {
        "id": "bBocGRw5Y0hH"
      },
      "execution_count": 7,
      "outputs": []
    },
    {
      "cell_type": "markdown",
      "source": [
        "inspecting the new dataset named df"
      ],
      "metadata": {
        "id": "9WnczX6-wj6m"
      }
    },
    {
      "cell_type": "code",
      "source": [
        "df"
      ],
      "metadata": {
        "colab": {
          "base_uri": "https://localhost:8080/",
          "height": 609
        },
        "id": "hy44FRaRu2gN",
        "outputId": "06dd0317-2f83-4ca6-a9dc-406a03c519fc"
      },
      "execution_count": 8,
      "outputs": [
        {
          "output_type": "execute_result",
          "data": {
            "text/plain": [
              "       Country  Year  Real per Capita GDP Growth Rate (annual %)  \\\n",
              "38      Malawi  2018                                    1.678135   \n",
              "39      Malawi  2019                                    2.945090   \n",
              "40      Malawi  2020                                   -1.001193   \n",
              "41      Malawi  2021                                    0.618895   \n",
              "42      Malawi  2022                                    3.400476   \n",
              "...        ...   ...                                         ...   \n",
              "2317  Zimbabwe  2018                                    2.047585   \n",
              "2318  Zimbabwe  2019                                   -7.326458   \n",
              "2319  Zimbabwe  2020                                  -11.328102   \n",
              "2320  Zimbabwe  2021                                    2.570616   \n",
              "2321  Zimbabwe  2022                                    1.399660   \n",
              "\n",
              "      Real GDP growth (annual %)  \\\n",
              "38                      4.400000   \n",
              "39                      5.700000   \n",
              "40                      1.662362   \n",
              "41                      3.342039   \n",
              "42                      6.206327   \n",
              "...                          ...   \n",
              "2317                    3.497000   \n",
              "2318                   -6.000000   \n",
              "2319                  -10.011501   \n",
              "2320                    4.152674   \n",
              "2321                    3.007154   \n",
              "\n",
              "      Gross domestic product, (constant prices US$)  \\\n",
              "38                                      9667.858325   \n",
              "39                                     10218.926250   \n",
              "40                                     10388.801800   \n",
              "41                                     10735.999610   \n",
              "42                                     11402.310860   \n",
              "...                                             ...   \n",
              "2317                                   18604.744050   \n",
              "2318                                   17488.459400   \n",
              "2319                                   15737.602180   \n",
              "2320                                   16391.133420   \n",
              "2321                                   16884.040050   \n",
              "\n",
              "      Gross domestic product, current prices (current US$)  \\\n",
              "38                                          9714.632028      \n",
              "39                                         10867.859370      \n",
              "40                                         11963.367930      \n",
              "41                                         12357.005670      \n",
              "42                                         12856.741350      \n",
              "...                                                 ...      \n",
              "2317                                       24201.183150      \n",
              "2318                                       20706.447400      \n",
              "2319                                       17942.118570      \n",
              "2320                                       19003.338110      \n",
              "2321                                       19681.907890      \n",
              "\n",
              "      Final consumption expenditure  (current US$)  \\\n",
              "38                                     9163.239544   \n",
              "39                                     9844.879200   \n",
              "40                                    11088.094080   \n",
              "41                                    11197.235850   \n",
              "42                                    11438.630570   \n",
              "...                                            ...   \n",
              "2317                                  24587.090040   \n",
              "2318                                  19475.145850   \n",
              "2319                                  17378.899000   \n",
              "2320                                  18486.907740   \n",
              "2321                                  19219.788120   \n",
              "\n",
              "      General government final consumption expenditure (current US$)  \\\n",
              "38                                           681.277940                \n",
              "39                                           762.152725                \n",
              "40                                           913.838660                \n",
              "41                                           863.663349                \n",
              "42                                           870.073831                \n",
              "...                                                 ...                \n",
              "2317                                        6228.315843                \n",
              "2318                                        2221.494474                \n",
              "2319                                        2113.138653                \n",
              "2320                                        2196.948197                \n",
              "2321                                        2279.464963                \n",
              "\n",
              "      Household final consumption expenditure (current US$)  \\\n",
              "38                                          8481.961604       \n",
              "39                                          9082.726475       \n",
              "40                                         10174.255420       \n",
              "41                                         10333.572500       \n",
              "42                                         10568.556740       \n",
              "...                                                 ...       \n",
              "2317                                       18358.774200       \n",
              "2318                                       17253.651370       \n",
              "2319                                       15265.760340       \n",
              "2320                                       16289.959540       \n",
              "2321                                       16940.323160       \n",
              "\n",
              "      Gross capital formation (current US$)  ...  \\\n",
              "38                              1887.307123  ...   \n",
              "39                              2111.350129  ...   \n",
              "40                              2111.385601  ...   \n",
              "41                              2340.238912  ...   \n",
              "42                              2716.625917  ...   \n",
              "...                                     ...  ...   \n",
              "2317                            2282.487586  ...   \n",
              "2318                            1362.732006  ...   \n",
              "2319                             901.907970  ...   \n",
              "2320                             981.976395  ...   \n",
              "2321                            1063.478646  ...   \n",
              "\n",
              "      Imports of goods and services (% of GDP)  \\\n",
              "38                                   27.556244   \n",
              "39                                   22.640551   \n",
              "40                                   20.327537   \n",
              "41                                   20.264806   \n",
              "42                                   21.176873   \n",
              "...                                        ...   \n",
              "2317                                 31.146159   \n",
              "2318                                 26.070949   \n",
              "2319                                 23.594682   \n",
              "2320                                 24.204740   \n",
              "2321                                 25.133211   \n",
              "\n",
              "      Central government, Fiscal Balance (Current US $)  \\\n",
              "38                                          -540.497024   \n",
              "39                                          -507.754338   \n",
              "40                                          -889.982559   \n",
              "41                                         -1048.382808   \n",
              "42                                          -871.616679   \n",
              "...                                                 ...   \n",
              "2317                                       -2019.349767   \n",
              "2318                                        -558.523337   \n",
              "2319                                        -516.880494   \n",
              "2320                                        -490.613196   \n",
              "2321                                        -516.472513   \n",
              "\n",
              "      Central government, total revenue and grants  (Current US $)  \\\n",
              "38                                          1446.447005              \n",
              "39                                          1618.253870              \n",
              "40                                          1801.189072              \n",
              "41                                          1783.157114              \n",
              "42                                          1867.801705              \n",
              "...                                                 ...              \n",
              "2317                                        5533.453859              \n",
              "2318                                        3097.742372              \n",
              "2319                                        2767.650934              \n",
              "2320                                        2928.757810              \n",
              "2321                                        3033.489693              \n",
              "\n",
              "      Central government, total expenditure and net lending  (Current US $)  \\\n",
              "38                                          1986.944030                       \n",
              "39                                          2126.008209                       \n",
              "40                                          2691.171631                       \n",
              "41                                          2831.539922                       \n",
              "42                                          2739.418384                       \n",
              "...                                                 ...                       \n",
              "2317                                        7552.803626                       \n",
              "2318                                        3656.265709                       \n",
              "2319                                        3284.531428                       \n",
              "2320                                        3419.371005                       \n",
              "2321                                        3549.962206                       \n",
              "\n",
              "      Central government, Fiscal Balance (% of GDP)  \\\n",
              "38                                        -5.563742   \n",
              "39                                        -4.672073   \n",
              "40                                        -7.439231   \n",
              "41                                        -8.484117   \n",
              "42                                        -6.779453   \n",
              "...                                             ...   \n",
              "2317                                      -8.344013   \n",
              "2318                                      -2.697340   \n",
              "2319                                      -2.880822   \n",
              "2320                                      -2.581721   \n",
              "2321                                      -2.624098   \n",
              "\n",
              "      Central government, total revenue and grants  (% of GDP)  \\\n",
              "38                                            14.889365          \n",
              "39                                            14.890272          \n",
              "40                                            15.055870          \n",
              "41                                            14.430333          \n",
              "42                                            14.527800          \n",
              "...                                                 ...          \n",
              "2317                                          22.864394          \n",
              "2318                                          14.960279          \n",
              "2319                                          15.425441          \n",
              "2320                                          15.411807          \n",
              "2321                                          15.412579          \n",
              "\n",
              "      Central government, total expenditure and net lending  (% of GDP)  \\\n",
              "38                                            20.453106                   \n",
              "39                                            19.562346                   \n",
              "40                                            22.495100                   \n",
              "41                                            22.914450                   \n",
              "42                                            21.307253                   \n",
              "...                                                 ...                   \n",
              "2317                                          31.208407                   \n",
              "2318                                          17.657620                   \n",
              "2319                                          18.306263                   \n",
              "2320                                          17.993528                   \n",
              "2321                                          18.036677                   \n",
              "\n",
              "      Current account balance (Net, BoP, cur. US$)  \\\n",
              "38                                    -1418.570654   \n",
              "39                                    -1202.640050   \n",
              "40                                    -1587.753048   \n",
              "41                                    -1545.132482   \n",
              "42                                    -1655.416961   \n",
              "...                                            ...   \n",
              "2317                                  -1379.626260   \n",
              "2318                                    229.764025   \n",
              "2319                                   -348.597609   \n",
              "2320                                   -374.726966   \n",
              "2321                                   -429.413218   \n",
              "\n",
              "      Current account balance (As % of GDP)  \\\n",
              "38                               -14.602413   \n",
              "39                               -11.066025   \n",
              "40                               -13.271790   \n",
              "41                               -12.504101   \n",
              "42                               -12.875867   \n",
              "...                                     ...   \n",
              "2317                              -5.700656   \n",
              "2318                               1.109626   \n",
              "2319                              -1.942901   \n",
              "2320                              -1.971901   \n",
              "2321                              -2.181766   \n",
              "\n",
              "      Inflation, consumer prices (annual %)  \n",
              "38                                 9.200000  \n",
              "39                                 9.400000  \n",
              "40                                 8.831541  \n",
              "41                                 9.047245  \n",
              "42                                 7.831446  \n",
              "...                                     ...  \n",
              "2317                              10.620290  \n",
              "2318                             226.914167  \n",
              "2319                             622.751634  \n",
              "2320                             135.040634  \n",
              "2321                              25.040634  \n",
              "\n",
              "[270 rows x 31 columns]"
            ],
            "text/html": [
              "\n",
              "  <div id=\"df-d0cdcf68-2bf2-428f-88d5-0f9d47fafdb5\">\n",
              "    <div class=\"colab-df-container\">\n",
              "      <div>\n",
              "<style scoped>\n",
              "    .dataframe tbody tr th:only-of-type {\n",
              "        vertical-align: middle;\n",
              "    }\n",
              "\n",
              "    .dataframe tbody tr th {\n",
              "        vertical-align: top;\n",
              "    }\n",
              "\n",
              "    .dataframe thead th {\n",
              "        text-align: right;\n",
              "    }\n",
              "</style>\n",
              "<table border=\"1\" class=\"dataframe\">\n",
              "  <thead>\n",
              "    <tr style=\"text-align: right;\">\n",
              "      <th></th>\n",
              "      <th>Country</th>\n",
              "      <th>Year</th>\n",
              "      <th>Real per Capita GDP Growth Rate (annual %)</th>\n",
              "      <th>Real GDP growth (annual %)</th>\n",
              "      <th>Gross domestic product, (constant prices US$)</th>\n",
              "      <th>Gross domestic product, current prices (current US$)</th>\n",
              "      <th>Final consumption expenditure  (current US$)</th>\n",
              "      <th>General government final consumption expenditure (current US$)</th>\n",
              "      <th>Household final consumption expenditure (current US$)</th>\n",
              "      <th>Gross capital formation (current US$)</th>\n",
              "      <th>...</th>\n",
              "      <th>Imports of goods and services (% of GDP)</th>\n",
              "      <th>Central government, Fiscal Balance (Current US $)</th>\n",
              "      <th>Central government, total revenue and grants  (Current US $)</th>\n",
              "      <th>Central government, total expenditure and net lending  (Current US $)</th>\n",
              "      <th>Central government, Fiscal Balance (% of GDP)</th>\n",
              "      <th>Central government, total revenue and grants  (% of GDP)</th>\n",
              "      <th>Central government, total expenditure and net lending  (% of GDP)</th>\n",
              "      <th>Current account balance (Net, BoP, cur. US$)</th>\n",
              "      <th>Current account balance (As % of GDP)</th>\n",
              "      <th>Inflation, consumer prices (annual %)</th>\n",
              "    </tr>\n",
              "  </thead>\n",
              "  <tbody>\n",
              "    <tr>\n",
              "      <th>38</th>\n",
              "      <td>Malawi</td>\n",
              "      <td>2018</td>\n",
              "      <td>1.678135</td>\n",
              "      <td>4.400000</td>\n",
              "      <td>9667.858325</td>\n",
              "      <td>9714.632028</td>\n",
              "      <td>9163.239544</td>\n",
              "      <td>681.277940</td>\n",
              "      <td>8481.961604</td>\n",
              "      <td>1887.307123</td>\n",
              "      <td>...</td>\n",
              "      <td>27.556244</td>\n",
              "      <td>-540.497024</td>\n",
              "      <td>1446.447005</td>\n",
              "      <td>1986.944030</td>\n",
              "      <td>-5.563742</td>\n",
              "      <td>14.889365</td>\n",
              "      <td>20.453106</td>\n",
              "      <td>-1418.570654</td>\n",
              "      <td>-14.602413</td>\n",
              "      <td>9.200000</td>\n",
              "    </tr>\n",
              "    <tr>\n",
              "      <th>39</th>\n",
              "      <td>Malawi</td>\n",
              "      <td>2019</td>\n",
              "      <td>2.945090</td>\n",
              "      <td>5.700000</td>\n",
              "      <td>10218.926250</td>\n",
              "      <td>10867.859370</td>\n",
              "      <td>9844.879200</td>\n",
              "      <td>762.152725</td>\n",
              "      <td>9082.726475</td>\n",
              "      <td>2111.350129</td>\n",
              "      <td>...</td>\n",
              "      <td>22.640551</td>\n",
              "      <td>-507.754338</td>\n",
              "      <td>1618.253870</td>\n",
              "      <td>2126.008209</td>\n",
              "      <td>-4.672073</td>\n",
              "      <td>14.890272</td>\n",
              "      <td>19.562346</td>\n",
              "      <td>-1202.640050</td>\n",
              "      <td>-11.066025</td>\n",
              "      <td>9.400000</td>\n",
              "    </tr>\n",
              "    <tr>\n",
              "      <th>40</th>\n",
              "      <td>Malawi</td>\n",
              "      <td>2020</td>\n",
              "      <td>-1.001193</td>\n",
              "      <td>1.662362</td>\n",
              "      <td>10388.801800</td>\n",
              "      <td>11963.367930</td>\n",
              "      <td>11088.094080</td>\n",
              "      <td>913.838660</td>\n",
              "      <td>10174.255420</td>\n",
              "      <td>2111.385601</td>\n",
              "      <td>...</td>\n",
              "      <td>20.327537</td>\n",
              "      <td>-889.982559</td>\n",
              "      <td>1801.189072</td>\n",
              "      <td>2691.171631</td>\n",
              "      <td>-7.439231</td>\n",
              "      <td>15.055870</td>\n",
              "      <td>22.495100</td>\n",
              "      <td>-1587.753048</td>\n",
              "      <td>-13.271790</td>\n",
              "      <td>8.831541</td>\n",
              "    </tr>\n",
              "    <tr>\n",
              "      <th>41</th>\n",
              "      <td>Malawi</td>\n",
              "      <td>2021</td>\n",
              "      <td>0.618895</td>\n",
              "      <td>3.342039</td>\n",
              "      <td>10735.999610</td>\n",
              "      <td>12357.005670</td>\n",
              "      <td>11197.235850</td>\n",
              "      <td>863.663349</td>\n",
              "      <td>10333.572500</td>\n",
              "      <td>2340.238912</td>\n",
              "      <td>...</td>\n",
              "      <td>20.264806</td>\n",
              "      <td>-1048.382808</td>\n",
              "      <td>1783.157114</td>\n",
              "      <td>2831.539922</td>\n",
              "      <td>-8.484117</td>\n",
              "      <td>14.430333</td>\n",
              "      <td>22.914450</td>\n",
              "      <td>-1545.132482</td>\n",
              "      <td>-12.504101</td>\n",
              "      <td>9.047245</td>\n",
              "    </tr>\n",
              "    <tr>\n",
              "      <th>42</th>\n",
              "      <td>Malawi</td>\n",
              "      <td>2022</td>\n",
              "      <td>3.400476</td>\n",
              "      <td>6.206327</td>\n",
              "      <td>11402.310860</td>\n",
              "      <td>12856.741350</td>\n",
              "      <td>11438.630570</td>\n",
              "      <td>870.073831</td>\n",
              "      <td>10568.556740</td>\n",
              "      <td>2716.625917</td>\n",
              "      <td>...</td>\n",
              "      <td>21.176873</td>\n",
              "      <td>-871.616679</td>\n",
              "      <td>1867.801705</td>\n",
              "      <td>2739.418384</td>\n",
              "      <td>-6.779453</td>\n",
              "      <td>14.527800</td>\n",
              "      <td>21.307253</td>\n",
              "      <td>-1655.416961</td>\n",
              "      <td>-12.875867</td>\n",
              "      <td>7.831446</td>\n",
              "    </tr>\n",
              "    <tr>\n",
              "      <th>...</th>\n",
              "      <td>...</td>\n",
              "      <td>...</td>\n",
              "      <td>...</td>\n",
              "      <td>...</td>\n",
              "      <td>...</td>\n",
              "      <td>...</td>\n",
              "      <td>...</td>\n",
              "      <td>...</td>\n",
              "      <td>...</td>\n",
              "      <td>...</td>\n",
              "      <td>...</td>\n",
              "      <td>...</td>\n",
              "      <td>...</td>\n",
              "      <td>...</td>\n",
              "      <td>...</td>\n",
              "      <td>...</td>\n",
              "      <td>...</td>\n",
              "      <td>...</td>\n",
              "      <td>...</td>\n",
              "      <td>...</td>\n",
              "      <td>...</td>\n",
              "    </tr>\n",
              "    <tr>\n",
              "      <th>2317</th>\n",
              "      <td>Zimbabwe</td>\n",
              "      <td>2018</td>\n",
              "      <td>2.047585</td>\n",
              "      <td>3.497000</td>\n",
              "      <td>18604.744050</td>\n",
              "      <td>24201.183150</td>\n",
              "      <td>24587.090040</td>\n",
              "      <td>6228.315843</td>\n",
              "      <td>18358.774200</td>\n",
              "      <td>2282.487586</td>\n",
              "      <td>...</td>\n",
              "      <td>31.146159</td>\n",
              "      <td>-2019.349767</td>\n",
              "      <td>5533.453859</td>\n",
              "      <td>7552.803626</td>\n",
              "      <td>-8.344013</td>\n",
              "      <td>22.864394</td>\n",
              "      <td>31.208407</td>\n",
              "      <td>-1379.626260</td>\n",
              "      <td>-5.700656</td>\n",
              "      <td>10.620290</td>\n",
              "    </tr>\n",
              "    <tr>\n",
              "      <th>2318</th>\n",
              "      <td>Zimbabwe</td>\n",
              "      <td>2019</td>\n",
              "      <td>-7.326458</td>\n",
              "      <td>-6.000000</td>\n",
              "      <td>17488.459400</td>\n",
              "      <td>20706.447400</td>\n",
              "      <td>19475.145850</td>\n",
              "      <td>2221.494474</td>\n",
              "      <td>17253.651370</td>\n",
              "      <td>1362.732006</td>\n",
              "      <td>...</td>\n",
              "      <td>26.070949</td>\n",
              "      <td>-558.523337</td>\n",
              "      <td>3097.742372</td>\n",
              "      <td>3656.265709</td>\n",
              "      <td>-2.697340</td>\n",
              "      <td>14.960279</td>\n",
              "      <td>17.657620</td>\n",
              "      <td>229.764025</td>\n",
              "      <td>1.109626</td>\n",
              "      <td>226.914167</td>\n",
              "    </tr>\n",
              "    <tr>\n",
              "      <th>2319</th>\n",
              "      <td>Zimbabwe</td>\n",
              "      <td>2020</td>\n",
              "      <td>-11.328102</td>\n",
              "      <td>-10.011501</td>\n",
              "      <td>15737.602180</td>\n",
              "      <td>17942.118570</td>\n",
              "      <td>17378.899000</td>\n",
              "      <td>2113.138653</td>\n",
              "      <td>15265.760340</td>\n",
              "      <td>901.907970</td>\n",
              "      <td>...</td>\n",
              "      <td>23.594682</td>\n",
              "      <td>-516.880494</td>\n",
              "      <td>2767.650934</td>\n",
              "      <td>3284.531428</td>\n",
              "      <td>-2.880822</td>\n",
              "      <td>15.425441</td>\n",
              "      <td>18.306263</td>\n",
              "      <td>-348.597609</td>\n",
              "      <td>-1.942901</td>\n",
              "      <td>622.751634</td>\n",
              "    </tr>\n",
              "    <tr>\n",
              "      <th>2320</th>\n",
              "      <td>Zimbabwe</td>\n",
              "      <td>2021</td>\n",
              "      <td>2.570616</td>\n",
              "      <td>4.152674</td>\n",
              "      <td>16391.133420</td>\n",
              "      <td>19003.338110</td>\n",
              "      <td>18486.907740</td>\n",
              "      <td>2196.948197</td>\n",
              "      <td>16289.959540</td>\n",
              "      <td>981.976395</td>\n",
              "      <td>...</td>\n",
              "      <td>24.204740</td>\n",
              "      <td>-490.613196</td>\n",
              "      <td>2928.757810</td>\n",
              "      <td>3419.371005</td>\n",
              "      <td>-2.581721</td>\n",
              "      <td>15.411807</td>\n",
              "      <td>17.993528</td>\n",
              "      <td>-374.726966</td>\n",
              "      <td>-1.971901</td>\n",
              "      <td>135.040634</td>\n",
              "    </tr>\n",
              "    <tr>\n",
              "      <th>2321</th>\n",
              "      <td>Zimbabwe</td>\n",
              "      <td>2022</td>\n",
              "      <td>1.399660</td>\n",
              "      <td>3.007154</td>\n",
              "      <td>16884.040050</td>\n",
              "      <td>19681.907890</td>\n",
              "      <td>19219.788120</td>\n",
              "      <td>2279.464963</td>\n",
              "      <td>16940.323160</td>\n",
              "      <td>1063.478646</td>\n",
              "      <td>...</td>\n",
              "      <td>25.133211</td>\n",
              "      <td>-516.472513</td>\n",
              "      <td>3033.489693</td>\n",
              "      <td>3549.962206</td>\n",
              "      <td>-2.624098</td>\n",
              "      <td>15.412579</td>\n",
              "      <td>18.036677</td>\n",
              "      <td>-429.413218</td>\n",
              "      <td>-2.181766</td>\n",
              "      <td>25.040634</td>\n",
              "    </tr>\n",
              "  </tbody>\n",
              "</table>\n",
              "<p>270 rows × 31 columns</p>\n",
              "</div>\n",
              "      <button class=\"colab-df-convert\" onclick=\"convertToInteractive('df-d0cdcf68-2bf2-428f-88d5-0f9d47fafdb5')\"\n",
              "              title=\"Convert this dataframe to an interactive table.\"\n",
              "              style=\"display:none;\">\n",
              "        \n",
              "  <svg xmlns=\"http://www.w3.org/2000/svg\" height=\"24px\"viewBox=\"0 0 24 24\"\n",
              "       width=\"24px\">\n",
              "    <path d=\"M0 0h24v24H0V0z\" fill=\"none\"/>\n",
              "    <path d=\"M18.56 5.44l.94 2.06.94-2.06 2.06-.94-2.06-.94-.94-2.06-.94 2.06-2.06.94zm-11 1L8.5 8.5l.94-2.06 2.06-.94-2.06-.94L8.5 2.5l-.94 2.06-2.06.94zm10 10l.94 2.06.94-2.06 2.06-.94-2.06-.94-.94-2.06-.94 2.06-2.06.94z\"/><path d=\"M17.41 7.96l-1.37-1.37c-.4-.4-.92-.59-1.43-.59-.52 0-1.04.2-1.43.59L10.3 9.45l-7.72 7.72c-.78.78-.78 2.05 0 2.83L4 21.41c.39.39.9.59 1.41.59.51 0 1.02-.2 1.41-.59l7.78-7.78 2.81-2.81c.8-.78.8-2.07 0-2.86zM5.41 20L4 18.59l7.72-7.72 1.47 1.35L5.41 20z\"/>\n",
              "  </svg>\n",
              "      </button>\n",
              "      \n",
              "  <style>\n",
              "    .colab-df-container {\n",
              "      display:flex;\n",
              "      flex-wrap:wrap;\n",
              "      gap: 12px;\n",
              "    }\n",
              "\n",
              "    .colab-df-convert {\n",
              "      background-color: #E8F0FE;\n",
              "      border: none;\n",
              "      border-radius: 50%;\n",
              "      cursor: pointer;\n",
              "      display: none;\n",
              "      fill: #1967D2;\n",
              "      height: 32px;\n",
              "      padding: 0 0 0 0;\n",
              "      width: 32px;\n",
              "    }\n",
              "\n",
              "    .colab-df-convert:hover {\n",
              "      background-color: #E2EBFA;\n",
              "      box-shadow: 0px 1px 2px rgba(60, 64, 67, 0.3), 0px 1px 3px 1px rgba(60, 64, 67, 0.15);\n",
              "      fill: #174EA6;\n",
              "    }\n",
              "\n",
              "    [theme=dark] .colab-df-convert {\n",
              "      background-color: #3B4455;\n",
              "      fill: #D2E3FC;\n",
              "    }\n",
              "\n",
              "    [theme=dark] .colab-df-convert:hover {\n",
              "      background-color: #434B5C;\n",
              "      box-shadow: 0px 1px 3px 1px rgba(0, 0, 0, 0.15);\n",
              "      filter: drop-shadow(0px 1px 2px rgba(0, 0, 0, 0.3));\n",
              "      fill: #FFFFFF;\n",
              "    }\n",
              "  </style>\n",
              "\n",
              "      <script>\n",
              "        const buttonEl =\n",
              "          document.querySelector('#df-d0cdcf68-2bf2-428f-88d5-0f9d47fafdb5 button.colab-df-convert');\n",
              "        buttonEl.style.display =\n",
              "          google.colab.kernel.accessAllowed ? 'block' : 'none';\n",
              "\n",
              "        async function convertToInteractive(key) {\n",
              "          const element = document.querySelector('#df-d0cdcf68-2bf2-428f-88d5-0f9d47fafdb5');\n",
              "          const dataTable =\n",
              "            await google.colab.kernel.invokeFunction('convertToInteractive',\n",
              "                                                     [key], {});\n",
              "          if (!dataTable) return;\n",
              "\n",
              "          const docLinkHtml = 'Like what you see? Visit the ' +\n",
              "            '<a target=\"_blank\" href=https://colab.research.google.com/notebooks/data_table.ipynb>data table notebook</a>'\n",
              "            + ' to learn more about interactive tables.';\n",
              "          element.innerHTML = '';\n",
              "          dataTable['output_type'] = 'display_data';\n",
              "          await google.colab.output.renderOutput(dataTable, element);\n",
              "          const docLink = document.createElement('div');\n",
              "          docLink.innerHTML = docLinkHtml;\n",
              "          element.appendChild(docLink);\n",
              "        }\n",
              "      </script>\n",
              "    </div>\n",
              "  </div>\n",
              "  "
            ]
          },
          "metadata": {},
          "execution_count": 8
        }
      ]
    },
    {
      "cell_type": "markdown",
      "source": [
        "inspecting the empty cells in the dataset"
      ],
      "metadata": {
        "id": "uZyXuodHxD2k"
      }
    },
    {
      "cell_type": "code",
      "source": [
        "df.isnull().sum()"
      ],
      "metadata": {
        "colab": {
          "base_uri": "https://localhost:8080/"
        },
        "id": "wdTyKxlHwz1h",
        "outputId": "bf2f1b4a-df26-405a-bbfc-c86760387f1c"
      },
      "execution_count": 12,
      "outputs": [
        {
          "output_type": "execute_result",
          "data": {
            "text/plain": [
              "Country                                                                  0\n",
              "Year                                                                     0\n",
              "Real per Capita GDP Growth Rate (annual %)                               0\n",
              "Real GDP growth (annual %)                                               0\n",
              "Gross domestic product, (constant prices US$)                            0\n",
              "Gross domestic product, current prices (current US$)                     0\n",
              "Final consumption expenditure  (current US$)                             0\n",
              "General government final consumption expenditure (current US$)           0\n",
              "Household final consumption expenditure (current US$)                    0\n",
              "Gross capital formation (current US$)                                    0\n",
              "Gross capital formation, Private sector  (current US$)                   0\n",
              "Gross capital formation, Public sector  (current US$)                    0\n",
              "Exports of goods and services (current US$)                              0\n",
              "Imports of goods and services (current US$)                              0\n",
              "Final consumption expenditure  (% of GDP)                                0\n",
              "General government final consumption expenditure (% of GDP)              0\n",
              "Household final consumption expenditure  (% of GDP)                      0\n",
              "Gross capital formation (% of GDP)                                       0\n",
              "Gross capital formation, Private sector (% GDP)                          0\n",
              "Gross capital formation, Public sector (% GDP)                           0\n",
              "Exports of goods and services (% of GDP)                                 0\n",
              "Imports of goods and services (% of GDP)                                 0\n",
              "Central government, Fiscal Balance (Current US $)                        0\n",
              "Central government, total revenue and grants  (Current US $)             0\n",
              "Central government, total expenditure and net lending  (Current US $)    0\n",
              "Central government, Fiscal Balance (% of GDP)                            0\n",
              "Central government, total revenue and grants  (% of GDP)                 0\n",
              "Central government, total expenditure and net lending  (% of GDP)        0\n",
              "Current account balance (Net, BoP, cur. US$)                             0\n",
              "Current account balance (As % of GDP)                                    0\n",
              "Inflation, consumer prices (annual %)                                    0\n",
              "dtype: int64"
            ]
          },
          "metadata": {},
          "execution_count": 12
        }
      ]
    },
    {
      "cell_type": "markdown",
      "source": [
        "since we found zero of null values in the data This implies that the inspection and cleaning methods are complete"
      ],
      "metadata": {
        "id": "WlGuvpBd0TDP"
      }
    },
    {
      "cell_type": "markdown",
      "source": [
        "# Analysis"
      ],
      "metadata": {
        "id": "DPzK8Du1jvJk"
      }
    },
    {
      "cell_type": "markdown",
      "source": [
        "## we will focus on 2 coluumns which are namely inflation and household consumption expenditure"
      ],
      "metadata": {
        "id": "Ynv1p_QBgrv6"
      }
    },
    {
      "cell_type": "markdown",
      "source": [
        "Here we are looking at the data type"
      ],
      "metadata": {
        "id": "j-FzPVitc_uI"
      }
    },
    {
      "cell_type": "code",
      "source": [
        "df.info()"
      ],
      "metadata": {
        "colab": {
          "base_uri": "https://localhost:8080/"
        },
        "id": "6zD_E90aj0JB",
        "outputId": "e3815d3a-64f0-407b-e0d3-12400cade48c"
      },
      "execution_count": 51,
      "outputs": [
        {
          "output_type": "stream",
          "name": "stdout",
          "text": [
            "<class 'pandas.core.frame.DataFrame'>\n",
            "Int64Index: 270 entries, 38 to 2321\n",
            "Data columns (total 31 columns):\n",
            " #   Column                                                                 Non-Null Count  Dtype  \n",
            "---  ------                                                                 --------------  -----  \n",
            " 0   Country                                                                270 non-null    object \n",
            " 1   Year                                                                   270 non-null    int64  \n",
            " 2   Real per Capita GDP Growth Rate (annual %)                             270 non-null    float64\n",
            " 3   Real GDP growth (annual %)                                             270 non-null    float64\n",
            " 4   Gross domestic product, (constant prices US$)                          270 non-null    float64\n",
            " 5   Gross domestic product, current prices (current US$)                   270 non-null    float64\n",
            " 6   Final consumption expenditure  (current US$)                           270 non-null    float64\n",
            " 7   General government final consumption expenditure (current US$)         270 non-null    float64\n",
            " 8   Household final consumption expenditure (current US$)                  270 non-null    float64\n",
            " 9   Gross capital formation (current US$)                                  270 non-null    float64\n",
            " 10  Gross capital formation, Private sector  (current US$)                 270 non-null    float64\n",
            " 11  Gross capital formation, Public sector  (current US$)                  270 non-null    float64\n",
            " 12  Exports of goods and services (current US$)                            270 non-null    float64\n",
            " 13  Imports of goods and services (current US$)                            270 non-null    float64\n",
            " 14  Final consumption expenditure  (% of GDP)                              270 non-null    float64\n",
            " 15  General government final consumption expenditure (% of GDP)            270 non-null    float64\n",
            " 16  Household final consumption expenditure  (% of GDP)                    270 non-null    float64\n",
            " 17  Gross capital formation (% of GDP)                                     270 non-null    float64\n",
            " 18  Gross capital formation, Private sector (% GDP)                        270 non-null    float64\n",
            " 19  Gross capital formation, Public sector (% GDP)                         270 non-null    float64\n",
            " 20  Exports of goods and services (% of GDP)                               270 non-null    float64\n",
            " 21  Imports of goods and services (% of GDP)                               270 non-null    float64\n",
            " 22  Central government, Fiscal Balance (Current US $)                      270 non-null    float64\n",
            " 23  Central government, total revenue and grants  (Current US $)           270 non-null    float64\n",
            " 24  Central government, total expenditure and net lending  (Current US $)  270 non-null    float64\n",
            " 25  Central government, Fiscal Balance (% of GDP)                          270 non-null    float64\n",
            " 26  Central government, total revenue and grants  (% of GDP)               270 non-null    float64\n",
            " 27  Central government, total expenditure and net lending  (% of GDP)      270 non-null    float64\n",
            " 28  Current account balance (Net, BoP, cur. US$)                           270 non-null    float64\n",
            " 29  Current account balance (As % of GDP)                                  270 non-null    float64\n",
            " 30  Inflation, consumer prices (annual %)                                  270 non-null    float64\n",
            "dtypes: float64(29), int64(1), object(1)\n",
            "memory usage: 67.5+ KB\n"
          ]
        }
      ]
    },
    {
      "cell_type": "code",
      "source": [
        "import plotly.express as px\n",
        "import matplotlib\n",
        "import matplotlib.pyplot as plt\n",
        "import seaborn as sns\n",
        "%matplotlib inline"
      ],
      "metadata": {
        "id": "4A4em0-oiUx4"
      },
      "execution_count": 11,
      "outputs": []
    },
    {
      "cell_type": "markdown",
      "source": [
        "Which country has the maximum inflation"
      ],
      "metadata": {
        "id": "O1FW23HjbBne"
      }
    },
    {
      "cell_type": "code",
      "source": [
        "df['Inflation, consumer prices (annual %)'].max()"
      ],
      "metadata": {
        "colab": {
          "base_uri": "https://localhost:8080/"
        },
        "id": "NacPN-ffX9oo",
        "outputId": "c70cb943-f7f1-4e34-ca33-d7d8aa1be176"
      },
      "execution_count": 22,
      "outputs": [
        {
          "output_type": "execute_result",
          "data": {
            "text/plain": [
              "622.7516344"
            ]
          },
          "metadata": {},
          "execution_count": 22
        }
      ]
    },
    {
      "cell_type": "markdown",
      "source": [
        "In which country"
      ],
      "metadata": {
        "id": "d8IGWhm4VsAo"
      }
    },
    {
      "cell_type": "code",
      "source": [
        "df.loc[df['Inflation, consumer prices (annual %)'] == df['Inflation, consumer prices (annual %)'].max(), 'Country']"
      ],
      "metadata": {
        "colab": {
          "base_uri": "https://localhost:8080/"
        },
        "id": "wd1vcnv9Y4Wv",
        "outputId": "26beb368-370b-4612-c83f-1a3db7695db3"
      },
      "execution_count": 20,
      "outputs": [
        {
          "output_type": "execute_result",
          "data": {
            "text/plain": [
              "2319    Zimbabwe\n",
              "Name: Country, dtype: object"
            ]
          },
          "metadata": {},
          "execution_count": 20
        }
      ]
    },
    {
      "cell_type": "markdown",
      "source": [
        "in which year"
      ],
      "metadata": {
        "id": "ssmeJqJrcM_g"
      }
    },
    {
      "cell_type": "code",
      "source": [
        "df.loc[df['Inflation, consumer prices (annual %)'] == df['Inflation, consumer prices (annual %)'].max(), 'Year']"
      ],
      "metadata": {
        "colab": {
          "base_uri": "https://localhost:8080/"
        },
        "id": "R6hfsa-ZcbMZ",
        "outputId": "27e2b1c3-4d55-460c-99f2-2fd1485358b5"
      },
      "execution_count": 23,
      "outputs": [
        {
          "output_type": "execute_result",
          "data": {
            "text/plain": [
              "2319    2020\n",
              "Name: Year, dtype: int64"
            ]
          },
          "metadata": {},
          "execution_count": 23
        }
      ]
    },
    {
      "cell_type": "markdown",
      "source": [
        "plot representing the inflation versus country"
      ],
      "metadata": {
        "id": "5WQ-CuD8brbQ"
      }
    },
    {
      "cell_type": "code",
      "source": [
        "fig = px.scatter(df, \n",
        "                 x='Country', \n",
        "                 y='Inflation, consumer prices (annual %)',  \n",
        "                 title='Inflation rate')\n",
        "fig.update_traces(marker_size=5)\n",
        "fig.show()"
      ],
      "metadata": {
        "colab": {
          "base_uri": "https://localhost:8080/",
          "height": 542
        },
        "id": "oGwv9t1sWcoe",
        "outputId": "4b2f054d-ae1a-4e21-a012-0b6c6dc564d8"
      },
      "execution_count": 35,
      "outputs": [
        {
          "output_type": "display_data",
          "data": {
            "text/html": [
              "<html>\n",
              "<head><meta charset=\"utf-8\" /></head>\n",
              "<body>\n",
              "    <div>            <script src=\"https://cdnjs.cloudflare.com/ajax/libs/mathjax/2.7.5/MathJax.js?config=TeX-AMS-MML_SVG\"></script><script type=\"text/javascript\">if (window.MathJax && window.MathJax.Hub && window.MathJax.Hub.Config) {window.MathJax.Hub.Config({SVG: {font: \"STIX-Web\"}});}</script>                <script type=\"text/javascript\">window.PlotlyConfig = {MathJaxConfig: 'local'};</script>\n",
              "        <script src=\"https://cdn.plot.ly/plotly-2.18.2.min.js\"></script>                <div id=\"edb62268-0524-4fdf-82ae-331029045496\" class=\"plotly-graph-div\" style=\"height:525px; width:100%;\"></div>            <script type=\"text/javascript\">                                    window.PLOTLYENV=window.PLOTLYENV || {};                                    if (document.getElementById(\"edb62268-0524-4fdf-82ae-331029045496\")) {                    Plotly.newPlot(                        \"edb62268-0524-4fdf-82ae-331029045496\",                        [{\"hovertemplate\":\"Country=%{x}<br>Inflation, consumer prices (annual %)=%{y}<extra></extra>\",\"legendgroup\":\"\",\"marker\":{\"color\":\"#636efa\",\"symbol\":\"circle\",\"size\":5},\"mode\":\"markers\",\"name\":\"\",\"orientation\":\"v\",\"showlegend\":false,\"x\":[\"Malawi\",\"Malawi\",\"Malawi\",\"Malawi\",\"Malawi\",\"Algeria\",\"Algeria\",\"Algeria\",\"Algeria\",\"Algeria\",\"Angola\",\"Angola\",\"Angola\",\"Angola\",\"Angola\",\"Benin\",\"Benin\",\"Benin\",\"Benin\",\"Benin\",\"Botswana\",\"Botswana\",\"Botswana\",\"Botswana\",\"Botswana\",\"Burkina Faso\",\"Burkina Faso\",\"Burkina Faso\",\"Burkina Faso\",\"Burkina Faso\",\"Burundi\",\"Burundi\",\"Burundi\",\"Burundi\",\"Burundi\",\"Cameroon\",\"Cameroon\",\"Cameroon\",\"Cameroon\",\"Cameroon\",\"Cabo Verde\",\"Cabo Verde\",\"Cabo Verde\",\"Cabo Verde\",\"Cabo Verde\",\"Central African Republic\",\"Central African Republic\",\"Central African Republic\",\"Central African Republic\",\"Central African Republic\",\"Chad\",\"Chad\",\"Chad\",\"Chad\",\"Chad\",\"Comoros\",\"Comoros\",\"Comoros\",\"Comoros\",\"Comoros\",\"Congo, Dem. Rep.\",\"Congo, Dem. Rep.\",\"Congo, Dem. Rep.\",\"Congo, Dem. Rep.\",\"Congo, Dem. Rep.\",\"Congo, Rep.\",\"Congo, Rep.\",\"Congo, Rep.\",\"Congo, Rep.\",\"Congo, Rep.\",\"Cote d'Ivoire\",\"Cote d'Ivoire\",\"Cote d'Ivoire\",\"Cote d'Ivoire\",\"Cote d'Ivoire\",\"Djibouti\",\"Djibouti\",\"Djibouti\",\"Djibouti\",\"Djibouti\",\"Egypt\",\"Egypt\",\"Egypt\",\"Egypt\",\"Egypt\",\"Equatorial Guinea\",\"Equatorial Guinea\",\"Equatorial Guinea\",\"Equatorial Guinea\",\"Equatorial Guinea\",\"Eritrea\",\"Eritrea\",\"Eritrea\",\"Eritrea\",\"Eritrea\",\"eSwatini\",\"eSwatini\",\"eSwatini\",\"eSwatini\",\"eSwatini\",\"Ethiopia\",\"Ethiopia\",\"Ethiopia\",\"Ethiopia\",\"Ethiopia\",\"Gabon\",\"Gabon\",\"Gabon\",\"Gabon\",\"Gabon\",\"Gambia\",\"Gambia\",\"Gambia\",\"Gambia\",\"Gambia\",\"Ghana\",\"Ghana\",\"Ghana\",\"Ghana\",\"Ghana\",\"Guinea\",\"Guinea\",\"Guinea\",\"Guinea\",\"Guinea\",\"Guinea-Bissau\",\"Guinea-Bissau\",\"Guinea-Bissau\",\"Guinea-Bissau\",\"Guinea-Bissau\",\"Kenya\",\"Kenya\",\"Kenya\",\"Kenya\",\"Kenya\",\"Lesotho\",\"Lesotho\",\"Lesotho\",\"Lesotho\",\"Lesotho\",\"Liberia\",\"Liberia\",\"Liberia\",\"Liberia\",\"Liberia\",\"Libya\",\"Libya\",\"Libya\",\"Libya\",\"Libya\",\"Madagascar\",\"Madagascar\",\"Madagascar\",\"Madagascar\",\"Madagascar\",\"Mali\",\"Mali\",\"Mali\",\"Mali\",\"Mali\",\"Mauritania\",\"Mauritania\",\"Mauritania\",\"Mauritania\",\"Mauritania\",\"Mauritius\",\"Mauritius\",\"Mauritius\",\"Mauritius\",\"Mauritius\",\"Morocco\",\"Morocco\",\"Morocco\",\"Morocco\",\"Morocco\",\"Mozambique\",\"Mozambique\",\"Mozambique\",\"Mozambique\",\"Mozambique\",\"Namibia\",\"Namibia\",\"Namibia\",\"Namibia\",\"Namibia\",\"Niger\",\"Niger\",\"Niger\",\"Niger\",\"Niger\",\"Nigeria\",\"Nigeria\",\"Nigeria\",\"Nigeria\",\"Nigeria\",\"Rwanda\",\"Rwanda\",\"Rwanda\",\"Rwanda\",\"Rwanda\",\"Sao Tome and Principe\",\"Sao Tome and Principe\",\"Sao Tome and Principe\",\"Sao Tome and Principe\",\"Sao Tome and Principe\",\"Senegal\",\"Senegal\",\"Senegal\",\"Senegal\",\"Senegal\",\"Seychelles\",\"Seychelles\",\"Seychelles\",\"Seychelles\",\"Seychelles\",\"Sierra Leone\",\"Sierra Leone\",\"Sierra Leone\",\"Sierra Leone\",\"Sierra Leone\",\"Somalia\",\"Somalia\",\"Somalia\",\"Somalia\",\"Somalia\",\"South Africa\",\"South Africa\",\"South Africa\",\"South Africa\",\"South Africa\",\"South Sudan\",\"South Sudan\",\"South Sudan\",\"South Sudan\",\"South Sudan\",\"Sudan\",\"Sudan\",\"Sudan\",\"Sudan\",\"Sudan\",\"Tanzania\",\"Tanzania\",\"Tanzania\",\"Tanzania\",\"Tanzania\",\"Togo\",\"Togo\",\"Togo\",\"Togo\",\"Togo\",\"Tunisia\",\"Tunisia\",\"Tunisia\",\"Tunisia\",\"Tunisia\",\"Uganda\",\"Uganda\",\"Uganda\",\"Uganda\",\"Uganda\",\"Zambia\",\"Zambia\",\"Zambia\",\"Zambia\",\"Zambia\",\"Zimbabwe\",\"Zimbabwe\",\"Zimbabwe\",\"Zimbabwe\",\"Zimbabwe\"],\"xaxis\":\"x\",\"y\":[9.2,9.4,8.831541235,9.047244748,7.831445787,4.27,1.951768211,1.902571769,3.04170235,4.247111139,20.23472768,16.34888504,24.56204211,14.88372786,12.99927338,0.848806255,-0.933393302,2.01377949,1.806390646,1.796201753,3.233333333,2.791666667,1.93286417,3.01638668,3.260245575,1.955943027,-3.2,1.366607712,2.137409972,2.681856314,-2.767402719,-0.708902321,7.601017267,5.369530456,3.177421739,1.066486448,2.45229807,2.866509568,2.291575776,2.295984412,1.275364609,1.107323824,1.029296242,1.273622771,1.433959946,1.6,3.5,2.889068706,2.707674339,2.708817915,4.036532659,-0.971939175,2.716861061,2.984512342,3.117793289,1.7,3.7,3.059903709,1.890714265,1.923880114,29.26586933,4.504949643,11.78619699,10.43061492,7.028165221,1.2,2.2,2.396056454,2.616215317,2.809214399,0.6,0.8,1.804857576,1.363144428,1.634125165,0.2,3.3,3.530466199,3.364934435,2.438541817,21.57491667,13.894,5.706454376,6.389395323,7.461965662,1.3,1.2,3.048047611,2.641281713,2.637064545,-14.401,-16.365,4.702,2.649,1.929,4.825045862,2.583783867,4.133301908,4.169057503,4.355477111,13.76666667,15.70343231,20.6,12.00147803,9.90870905,4.777129393,2.021793441,2.968855198,3.023860889,2.465851381,6.52096824,7.115676256,6.001640843,5.866150704,5.729547695,9.838451789,8.675,10.00364978,8.225168877,8.006513686,9.826001808,9.470697164,10.40071102,8.022656401,7.876752698,0.381324703,0.246600268,1.947719001,1.951005303,1.865030122,4.7,5.2,5.074491692,4.794264711,5.377138584,3.866887938,5.208333333,4.98325056,4.870595195,4.841258097,23.54692884,22.96934177,17.2326985,13.00948069,7.008785896,13.6,-2.2,1.5,10.5,17.35,8.617204851,5.636787409,4.152769317,6.005539596,5.800152207,1.733612494,-2.894240366,0.492802616,1.529093933,2.104839692,3.1,2.3,2.657893862,3.900453566,3.046478753,3.2,0.5,2.620869317,3.275983174,3.49133708,1.9,0.2,0.205262655,0.804658743,0.924976652,3.9113344,2.781106312,3.128598714,5.418716093,5.335230105,4.287780912,3.7,2.187771921,3.426068315,4.033518057,2.753266832,-2.520228253,2.758078589,0.532329384,2.046035287,12.14,11.4,12.78948842,11.4175343,11.01075655,1.4,2.43,6.602946198,2.761812786,4.576489007,8.270089522,7.724228931,9.087026398,8.533148883,6.090817934,0.46571737,0.9,1.907033072,2.103197007,1.758838403,3.69886673,1.807022465,4.066846573,3.041885138,2.710331711,16.0,14.81481481,16.95199134,13.64658552,11.34997156,5.1,4.7,4.0,3.8,4.1,4.616666667,4.1,3.382866485,4.189784085,3.769846149,83.502,24.5,31.1,23.3,16.0,50.99413982,82.37468213,124.8896135,129.6813609,57.48453283,3.6,3.4,3.305521061,3.948975263,3.389125531,0.927755427,0.687432324,1.596163821,1.926200175,2.108865563,7.304859604,6.728413796,5.876654171,5.654508261,4.301575415,2.623373171,2.870488756,3.768980958,4.692908589,4.919416571,7.48,9.2,15.36296541,12.35732581,10.73104412,10.62029009,226.9141667,622.7516344,135.0406338,25.04063377],\"yaxis\":\"y\",\"type\":\"scatter\"}],                        {\"template\":{\"data\":{\"histogram2dcontour\":[{\"type\":\"histogram2dcontour\",\"colorbar\":{\"outlinewidth\":0,\"ticks\":\"\"},\"colorscale\":[[0.0,\"#0d0887\"],[0.1111111111111111,\"#46039f\"],[0.2222222222222222,\"#7201a8\"],[0.3333333333333333,\"#9c179e\"],[0.4444444444444444,\"#bd3786\"],[0.5555555555555556,\"#d8576b\"],[0.6666666666666666,\"#ed7953\"],[0.7777777777777778,\"#fb9f3a\"],[0.8888888888888888,\"#fdca26\"],[1.0,\"#f0f921\"]]}],\"choropleth\":[{\"type\":\"choropleth\",\"colorbar\":{\"outlinewidth\":0,\"ticks\":\"\"}}],\"histogram2d\":[{\"type\":\"histogram2d\",\"colorbar\":{\"outlinewidth\":0,\"ticks\":\"\"},\"colorscale\":[[0.0,\"#0d0887\"],[0.1111111111111111,\"#46039f\"],[0.2222222222222222,\"#7201a8\"],[0.3333333333333333,\"#9c179e\"],[0.4444444444444444,\"#bd3786\"],[0.5555555555555556,\"#d8576b\"],[0.6666666666666666,\"#ed7953\"],[0.7777777777777778,\"#fb9f3a\"],[0.8888888888888888,\"#fdca26\"],[1.0,\"#f0f921\"]]}],\"heatmap\":[{\"type\":\"heatmap\",\"colorbar\":{\"outlinewidth\":0,\"ticks\":\"\"},\"colorscale\":[[0.0,\"#0d0887\"],[0.1111111111111111,\"#46039f\"],[0.2222222222222222,\"#7201a8\"],[0.3333333333333333,\"#9c179e\"],[0.4444444444444444,\"#bd3786\"],[0.5555555555555556,\"#d8576b\"],[0.6666666666666666,\"#ed7953\"],[0.7777777777777778,\"#fb9f3a\"],[0.8888888888888888,\"#fdca26\"],[1.0,\"#f0f921\"]]}],\"heatmapgl\":[{\"type\":\"heatmapgl\",\"colorbar\":{\"outlinewidth\":0,\"ticks\":\"\"},\"colorscale\":[[0.0,\"#0d0887\"],[0.1111111111111111,\"#46039f\"],[0.2222222222222222,\"#7201a8\"],[0.3333333333333333,\"#9c179e\"],[0.4444444444444444,\"#bd3786\"],[0.5555555555555556,\"#d8576b\"],[0.6666666666666666,\"#ed7953\"],[0.7777777777777778,\"#fb9f3a\"],[0.8888888888888888,\"#fdca26\"],[1.0,\"#f0f921\"]]}],\"contourcarpet\":[{\"type\":\"contourcarpet\",\"colorbar\":{\"outlinewidth\":0,\"ticks\":\"\"}}],\"contour\":[{\"type\":\"contour\",\"colorbar\":{\"outlinewidth\":0,\"ticks\":\"\"},\"colorscale\":[[0.0,\"#0d0887\"],[0.1111111111111111,\"#46039f\"],[0.2222222222222222,\"#7201a8\"],[0.3333333333333333,\"#9c179e\"],[0.4444444444444444,\"#bd3786\"],[0.5555555555555556,\"#d8576b\"],[0.6666666666666666,\"#ed7953\"],[0.7777777777777778,\"#fb9f3a\"],[0.8888888888888888,\"#fdca26\"],[1.0,\"#f0f921\"]]}],\"surface\":[{\"type\":\"surface\",\"colorbar\":{\"outlinewidth\":0,\"ticks\":\"\"},\"colorscale\":[[0.0,\"#0d0887\"],[0.1111111111111111,\"#46039f\"],[0.2222222222222222,\"#7201a8\"],[0.3333333333333333,\"#9c179e\"],[0.4444444444444444,\"#bd3786\"],[0.5555555555555556,\"#d8576b\"],[0.6666666666666666,\"#ed7953\"],[0.7777777777777778,\"#fb9f3a\"],[0.8888888888888888,\"#fdca26\"],[1.0,\"#f0f921\"]]}],\"mesh3d\":[{\"type\":\"mesh3d\",\"colorbar\":{\"outlinewidth\":0,\"ticks\":\"\"}}],\"scatter\":[{\"fillpattern\":{\"fillmode\":\"overlay\",\"size\":10,\"solidity\":0.2},\"type\":\"scatter\"}],\"parcoords\":[{\"type\":\"parcoords\",\"line\":{\"colorbar\":{\"outlinewidth\":0,\"ticks\":\"\"}}}],\"scatterpolargl\":[{\"type\":\"scatterpolargl\",\"marker\":{\"colorbar\":{\"outlinewidth\":0,\"ticks\":\"\"}}}],\"bar\":[{\"error_x\":{\"color\":\"#2a3f5f\"},\"error_y\":{\"color\":\"#2a3f5f\"},\"marker\":{\"line\":{\"color\":\"#E5ECF6\",\"width\":0.5},\"pattern\":{\"fillmode\":\"overlay\",\"size\":10,\"solidity\":0.2}},\"type\":\"bar\"}],\"scattergeo\":[{\"type\":\"scattergeo\",\"marker\":{\"colorbar\":{\"outlinewidth\":0,\"ticks\":\"\"}}}],\"scatterpolar\":[{\"type\":\"scatterpolar\",\"marker\":{\"colorbar\":{\"outlinewidth\":0,\"ticks\":\"\"}}}],\"histogram\":[{\"marker\":{\"pattern\":{\"fillmode\":\"overlay\",\"size\":10,\"solidity\":0.2}},\"type\":\"histogram\"}],\"scattergl\":[{\"type\":\"scattergl\",\"marker\":{\"colorbar\":{\"outlinewidth\":0,\"ticks\":\"\"}}}],\"scatter3d\":[{\"type\":\"scatter3d\",\"line\":{\"colorbar\":{\"outlinewidth\":0,\"ticks\":\"\"}},\"marker\":{\"colorbar\":{\"outlinewidth\":0,\"ticks\":\"\"}}}],\"scattermapbox\":[{\"type\":\"scattermapbox\",\"marker\":{\"colorbar\":{\"outlinewidth\":0,\"ticks\":\"\"}}}],\"scatterternary\":[{\"type\":\"scatterternary\",\"marker\":{\"colorbar\":{\"outlinewidth\":0,\"ticks\":\"\"}}}],\"scattercarpet\":[{\"type\":\"scattercarpet\",\"marker\":{\"colorbar\":{\"outlinewidth\":0,\"ticks\":\"\"}}}],\"carpet\":[{\"aaxis\":{\"endlinecolor\":\"#2a3f5f\",\"gridcolor\":\"white\",\"linecolor\":\"white\",\"minorgridcolor\":\"white\",\"startlinecolor\":\"#2a3f5f\"},\"baxis\":{\"endlinecolor\":\"#2a3f5f\",\"gridcolor\":\"white\",\"linecolor\":\"white\",\"minorgridcolor\":\"white\",\"startlinecolor\":\"#2a3f5f\"},\"type\":\"carpet\"}],\"table\":[{\"cells\":{\"fill\":{\"color\":\"#EBF0F8\"},\"line\":{\"color\":\"white\"}},\"header\":{\"fill\":{\"color\":\"#C8D4E3\"},\"line\":{\"color\":\"white\"}},\"type\":\"table\"}],\"barpolar\":[{\"marker\":{\"line\":{\"color\":\"#E5ECF6\",\"width\":0.5},\"pattern\":{\"fillmode\":\"overlay\",\"size\":10,\"solidity\":0.2}},\"type\":\"barpolar\"}],\"pie\":[{\"automargin\":true,\"type\":\"pie\"}]},\"layout\":{\"autotypenumbers\":\"strict\",\"colorway\":[\"#636efa\",\"#EF553B\",\"#00cc96\",\"#ab63fa\",\"#FFA15A\",\"#19d3f3\",\"#FF6692\",\"#B6E880\",\"#FF97FF\",\"#FECB52\"],\"font\":{\"color\":\"#2a3f5f\"},\"hovermode\":\"closest\",\"hoverlabel\":{\"align\":\"left\"},\"paper_bgcolor\":\"white\",\"plot_bgcolor\":\"#E5ECF6\",\"polar\":{\"bgcolor\":\"#E5ECF6\",\"angularaxis\":{\"gridcolor\":\"white\",\"linecolor\":\"white\",\"ticks\":\"\"},\"radialaxis\":{\"gridcolor\":\"white\",\"linecolor\":\"white\",\"ticks\":\"\"}},\"ternary\":{\"bgcolor\":\"#E5ECF6\",\"aaxis\":{\"gridcolor\":\"white\",\"linecolor\":\"white\",\"ticks\":\"\"},\"baxis\":{\"gridcolor\":\"white\",\"linecolor\":\"white\",\"ticks\":\"\"},\"caxis\":{\"gridcolor\":\"white\",\"linecolor\":\"white\",\"ticks\":\"\"}},\"coloraxis\":{\"colorbar\":{\"outlinewidth\":0,\"ticks\":\"\"}},\"colorscale\":{\"sequential\":[[0.0,\"#0d0887\"],[0.1111111111111111,\"#46039f\"],[0.2222222222222222,\"#7201a8\"],[0.3333333333333333,\"#9c179e\"],[0.4444444444444444,\"#bd3786\"],[0.5555555555555556,\"#d8576b\"],[0.6666666666666666,\"#ed7953\"],[0.7777777777777778,\"#fb9f3a\"],[0.8888888888888888,\"#fdca26\"],[1.0,\"#f0f921\"]],\"sequentialminus\":[[0.0,\"#0d0887\"],[0.1111111111111111,\"#46039f\"],[0.2222222222222222,\"#7201a8\"],[0.3333333333333333,\"#9c179e\"],[0.4444444444444444,\"#bd3786\"],[0.5555555555555556,\"#d8576b\"],[0.6666666666666666,\"#ed7953\"],[0.7777777777777778,\"#fb9f3a\"],[0.8888888888888888,\"#fdca26\"],[1.0,\"#f0f921\"]],\"diverging\":[[0,\"#8e0152\"],[0.1,\"#c51b7d\"],[0.2,\"#de77ae\"],[0.3,\"#f1b6da\"],[0.4,\"#fde0ef\"],[0.5,\"#f7f7f7\"],[0.6,\"#e6f5d0\"],[0.7,\"#b8e186\"],[0.8,\"#7fbc41\"],[0.9,\"#4d9221\"],[1,\"#276419\"]]},\"xaxis\":{\"gridcolor\":\"white\",\"linecolor\":\"white\",\"ticks\":\"\",\"title\":{\"standoff\":15},\"zerolinecolor\":\"white\",\"automargin\":true,\"zerolinewidth\":2},\"yaxis\":{\"gridcolor\":\"white\",\"linecolor\":\"white\",\"ticks\":\"\",\"title\":{\"standoff\":15},\"zerolinecolor\":\"white\",\"automargin\":true,\"zerolinewidth\":2},\"scene\":{\"xaxis\":{\"backgroundcolor\":\"#E5ECF6\",\"gridcolor\":\"white\",\"linecolor\":\"white\",\"showbackground\":true,\"ticks\":\"\",\"zerolinecolor\":\"white\",\"gridwidth\":2},\"yaxis\":{\"backgroundcolor\":\"#E5ECF6\",\"gridcolor\":\"white\",\"linecolor\":\"white\",\"showbackground\":true,\"ticks\":\"\",\"zerolinecolor\":\"white\",\"gridwidth\":2},\"zaxis\":{\"backgroundcolor\":\"#E5ECF6\",\"gridcolor\":\"white\",\"linecolor\":\"white\",\"showbackground\":true,\"ticks\":\"\",\"zerolinecolor\":\"white\",\"gridwidth\":2}},\"shapedefaults\":{\"line\":{\"color\":\"#2a3f5f\"}},\"annotationdefaults\":{\"arrowcolor\":\"#2a3f5f\",\"arrowhead\":0,\"arrowwidth\":1},\"geo\":{\"bgcolor\":\"white\",\"landcolor\":\"#E5ECF6\",\"subunitcolor\":\"white\",\"showland\":true,\"showlakes\":true,\"lakecolor\":\"white\"},\"title\":{\"x\":0.05},\"mapbox\":{\"style\":\"light\"}}},\"xaxis\":{\"anchor\":\"y\",\"domain\":[0.0,1.0],\"title\":{\"text\":\"Country\"}},\"yaxis\":{\"anchor\":\"x\",\"domain\":[0.0,1.0],\"title\":{\"text\":\"Inflation, consumer prices (annual %)\"}},\"legend\":{\"tracegroupgap\":0},\"title\":{\"text\":\"Inflation rate\"}},                        {\"responsive\": true}                    ).then(function(){\n",
              "                            \n",
              "var gd = document.getElementById('edb62268-0524-4fdf-82ae-331029045496');\n",
              "var x = new MutationObserver(function (mutations, observer) {{\n",
              "        var display = window.getComputedStyle(gd).display;\n",
              "        if (!display || display === 'none') {{\n",
              "            console.log([gd, 'removed!']);\n",
              "            Plotly.purge(gd);\n",
              "            observer.disconnect();\n",
              "        }}\n",
              "}});\n",
              "\n",
              "// Listen for the removal of the full notebook cells\n",
              "var notebookContainer = gd.closest('#notebook-container');\n",
              "if (notebookContainer) {{\n",
              "    x.observe(notebookContainer, {childList: true});\n",
              "}}\n",
              "\n",
              "// Listen for the clearing of the current output cell\n",
              "var outputEl = gd.closest('.output');\n",
              "if (outputEl) {{\n",
              "    x.observe(outputEl, {childList: true});\n",
              "}}\n",
              "\n",
              "                        })                };                            </script>        </div>\n",
              "</body>\n",
              "</html>"
            ]
          },
          "metadata": {}
        }
      ]
    },
    {
      "cell_type": "markdown",
      "source": [
        "high consumption expenditure by a household"
      ],
      "metadata": {
        "id": "9zePU4PheD_q"
      }
    },
    {
      "cell_type": "code",
      "source": [
        "df['Household final consumption expenditure (current US$)'].max()"
      ],
      "metadata": {
        "colab": {
          "base_uri": "https://localhost:8080/"
        },
        "id": "qgiTpuy1cwnt",
        "outputId": "8e8c20e5-ecb2-4d7a-d0c0-66d932fcf7b1"
      },
      "execution_count": 36,
      "outputs": [
        {
          "output_type": "execute_result",
          "data": {
            "text/plain": [
              "382768.6347"
            ]
          },
          "metadata": {},
          "execution_count": 36
        }
      ]
    },
    {
      "cell_type": "markdown",
      "source": [
        "in which country"
      ],
      "metadata": {
        "id": "rEF4z74WeShn"
      }
    },
    {
      "cell_type": "code",
      "source": [
        "df.loc[df['Household final consumption expenditure (current US$)'] == df['Household final consumption expenditure (current US$)'].max(), 'Country']"
      ],
      "metadata": {
        "colab": {
          "base_uri": "https://localhost:8080/"
        },
        "id": "V7pkWFfNc4vi",
        "outputId": "6750844c-8a2f-4dd3-912b-114d938810d2"
      },
      "execution_count": 37,
      "outputs": [
        {
          "output_type": "execute_result",
          "data": {
            "text/plain": [
              "1676    Nigeria\n",
              "Name: Country, dtype: object"
            ]
          },
          "metadata": {},
          "execution_count": 37
        }
      ]
    },
    {
      "cell_type": "markdown",
      "source": [
        "in which year"
      ],
      "metadata": {
        "id": "bNddml-IeawR"
      }
    },
    {
      "cell_type": "code",
      "source": [
        "df.loc[df['Household final consumption expenditure (current US$)'] == df['Household final consumption expenditure (current US$)'].max(), 'Year']"
      ],
      "metadata": {
        "colab": {
          "base_uri": "https://localhost:8080/"
        },
        "id": "AtIDXGlZdJlQ",
        "outputId": "e344528d-3983-46e5-bf25-62771ebbedb7"
      },
      "execution_count": 38,
      "outputs": [
        {
          "output_type": "execute_result",
          "data": {
            "text/plain": [
              "1676    2022\n",
              "Name: Year, dtype: int64"
            ]
          },
          "metadata": {},
          "execution_count": 38
        }
      ]
    },
    {
      "cell_type": "markdown",
      "source": [
        "box plot showing Household final consumption expenditure"
      ],
      "metadata": {
        "id": "azrGsMvAvpA3"
      }
    },
    {
      "cell_type": "code",
      "source": [
        "fig = px.histogram(df, \n",
        "                   x='Household final consumption expenditure (current US$)', \n",
        "                   marginal='box', \n",
        "                   color_discrete_sequence=['red'], \n",
        "                   title='Distribution of household')\n",
        "fig.update_layout(bargap=0.1)\n",
        "fig.show()"
      ],
      "metadata": {
        "colab": {
          "base_uri": "https://localhost:8080/",
          "height": 542
        },
        "id": "4nC1Vuiyeq8D",
        "outputId": "1c6a979d-9484-4887-a090-1a6ef5a5fd90"
      },
      "execution_count": 43,
      "outputs": [
        {
          "output_type": "display_data",
          "data": {
            "text/html": [
              "<html>\n",
              "<head><meta charset=\"utf-8\" /></head>\n",
              "<body>\n",
              "    <div>            <script src=\"https://cdnjs.cloudflare.com/ajax/libs/mathjax/2.7.5/MathJax.js?config=TeX-AMS-MML_SVG\"></script><script type=\"text/javascript\">if (window.MathJax && window.MathJax.Hub && window.MathJax.Hub.Config) {window.MathJax.Hub.Config({SVG: {font: \"STIX-Web\"}});}</script>                <script type=\"text/javascript\">window.PlotlyConfig = {MathJaxConfig: 'local'};</script>\n",
              "        <script src=\"https://cdn.plot.ly/plotly-2.18.2.min.js\"></script>                <div id=\"64208786-7a58-4239-8f81-623eab4f0243\" class=\"plotly-graph-div\" style=\"height:525px; width:100%;\"></div>            <script type=\"text/javascript\">                                    window.PLOTLYENV=window.PLOTLYENV || {};                                    if (document.getElementById(\"64208786-7a58-4239-8f81-623eab4f0243\")) {                    Plotly.newPlot(                        \"64208786-7a58-4239-8f81-623eab4f0243\",                        [{\"alignmentgroup\":\"True\",\"bingroup\":\"x\",\"hovertemplate\":\"Household final consumption expenditure (current US$)=%{x}<br>count=%{y}<extra></extra>\",\"legendgroup\":\"\",\"marker\":{\"color\":\"red\",\"pattern\":{\"shape\":\"\"}},\"name\":\"\",\"offsetgroup\":\"\",\"orientation\":\"v\",\"showlegend\":false,\"x\":[8481.961604,9082.726475,10174.25542,10333.5725,10568.55674,73488.06551,74455.8096,74575.57053,72427.16748,73565.43451,57124.15619,43815.385,31286.61162,28474.16785,28519.66315,10044.33249,9851.299031,11057.91426,12575.44399,14268.03625,9554.997121,9910.929934,8652.015224,8797.089978,9734.939011,10335.28765,10237.01684,12154.64183,13733.05965,14705.62646,2842.097069,2951.898464,2611.108402,2615.221511,2716.563313,27284.71688,27689.871,28944.55323,32171.19134,33910.5762,1211.530659,1220.351457,1198.845136,1310.429131,1398.129058,1955.171788,1776.849512,1849.976336,2023.530579,2170.057083,7568.337675,7568.638964,7436.411634,7788.019085,8007.500378,1076.552078,1053.314989,1050.229501,1141.144887,1210.803277,36046.44191,37956.98819,33398.16288,35069.56044,36967.30737,5137.547176,5295.964352,5155.122946,5558.285788,5945.247519,40220.92938,40202.8245,43740.85555,50845.55411,55822.13598,1773.916696,1064.863265,1205.425555,1687.642189,2534.616801,213832.1271,250776.3681,293196.949,304354.5323,313497.9422,6344.540118,6380.07547,6290.18953,6734.28975,7139.332079,1543.143854,1539.686777,1630.715047,1789.049263,1885.655263,3061.615252,2869.650961,2091.325059,2392.628382,2823.239759,56177.26246,63416.30526,67475.78562,69821.5681,67900.43486,6516.09255,6358.914578,6191.254494,6579.244827,7148.749546,1470.70114,1612.567031,1611.731414,1694.366102,1843.97317,44279.66385,42950.51011,44493.23161,46256.1448,49909.81866,8703.098977,9629.028271,11698.41517,12513.77814,13426.36856,1213.282492,1140.617384,1123.539676,1210.699373,1271.641577,69152.59323,75262.85741,78358.6317,78449.14899,87423.47806,1796.772005,1612.481591,1039.303318,1067.515186,1169.858292,2030.83712,2007.619677,4134.990384,4864.432085,5536.221904,4226.064,3385.72,12843.145,3810.84,4725.16,9695.754745,9585.877476,10540.17543,11724.60624,12847.92282,12768.73842,12783.31902,12502.90536,14247.65529,15796.98243,4222.132029,4294.332818,5331.453666,5273.891915,5434.642007,11110.56758,11237.00263,10104.99946,10033.90503,10880.90533,68502.76837,68663.48911,69330.92603,75846.27684,79046.3017,9646.956726,10139.72719,10954.52047,10008.44968,10379.95406,9499.813266,9109.78323,6237.760798,6608.437261,7333.703476,8882.470441,8930.528559,9262.111018,10071.26831,11233.71103,304974.7155,332855.1134,340044.401,343835.298,382768.6347,7221.186853,7421.191279,8273.18278,8360.871567,8925.643,341.0699427,378.5458134,376.541407,438.4704815,490.4524016,16067.39963,16065.72964,18816.543,20984.96512,21908.63459,965.9099024,976.5989062,964.6206187,981.0182827,1104.824918,3990.700945,4125.547019,4384.53388,3926.530096,3935.141218,6680.215,7007.756,6872.4132,7532.8892,7974.103496,222477.2526,212961.7198,158107.5991,176001.4707,208611.6668,4179.657303,4136.962949,3495.511376,4649.730453,5144.7794,26285.37091,26413.35934,22481.35589,21089.78515,20266.81991,32045.18834,36996.83119,42879.55587,45130.60304,49370.289,5390.204806,5357.414958,3703.609413,4201.911692,4701.557302,28791.51698,28070.74907,29503.65465,28615.00851,29103.13228,24682.9194,25551.70682,29524.9765,31880.04439,35050.08054,12435.15194,9924.265092,8347.214145,8133.954556,8546.039087,18358.7742,17253.65137,15265.76034,16289.95954,16940.32316],\"xaxis\":\"x\",\"yaxis\":\"y\",\"type\":\"histogram\"},{\"alignmentgroup\":\"True\",\"hovertemplate\":\"Household final consumption expenditure (current US$)=%{x}<extra></extra>\",\"legendgroup\":\"\",\"marker\":{\"color\":\"red\"},\"name\":\"\",\"notched\":true,\"offsetgroup\":\"\",\"showlegend\":false,\"x\":[8481.961604,9082.726475,10174.25542,10333.5725,10568.55674,73488.06551,74455.8096,74575.57053,72427.16748,73565.43451,57124.15619,43815.385,31286.61162,28474.16785,28519.66315,10044.33249,9851.299031,11057.91426,12575.44399,14268.03625,9554.997121,9910.929934,8652.015224,8797.089978,9734.939011,10335.28765,10237.01684,12154.64183,13733.05965,14705.62646,2842.097069,2951.898464,2611.108402,2615.221511,2716.563313,27284.71688,27689.871,28944.55323,32171.19134,33910.5762,1211.530659,1220.351457,1198.845136,1310.429131,1398.129058,1955.171788,1776.849512,1849.976336,2023.530579,2170.057083,7568.337675,7568.638964,7436.411634,7788.019085,8007.500378,1076.552078,1053.314989,1050.229501,1141.144887,1210.803277,36046.44191,37956.98819,33398.16288,35069.56044,36967.30737,5137.547176,5295.964352,5155.122946,5558.285788,5945.247519,40220.92938,40202.8245,43740.85555,50845.55411,55822.13598,1773.916696,1064.863265,1205.425555,1687.642189,2534.616801,213832.1271,250776.3681,293196.949,304354.5323,313497.9422,6344.540118,6380.07547,6290.18953,6734.28975,7139.332079,1543.143854,1539.686777,1630.715047,1789.049263,1885.655263,3061.615252,2869.650961,2091.325059,2392.628382,2823.239759,56177.26246,63416.30526,67475.78562,69821.5681,67900.43486,6516.09255,6358.914578,6191.254494,6579.244827,7148.749546,1470.70114,1612.567031,1611.731414,1694.366102,1843.97317,44279.66385,42950.51011,44493.23161,46256.1448,49909.81866,8703.098977,9629.028271,11698.41517,12513.77814,13426.36856,1213.282492,1140.617384,1123.539676,1210.699373,1271.641577,69152.59323,75262.85741,78358.6317,78449.14899,87423.47806,1796.772005,1612.481591,1039.303318,1067.515186,1169.858292,2030.83712,2007.619677,4134.990384,4864.432085,5536.221904,4226.064,3385.72,12843.145,3810.84,4725.16,9695.754745,9585.877476,10540.17543,11724.60624,12847.92282,12768.73842,12783.31902,12502.90536,14247.65529,15796.98243,4222.132029,4294.332818,5331.453666,5273.891915,5434.642007,11110.56758,11237.00263,10104.99946,10033.90503,10880.90533,68502.76837,68663.48911,69330.92603,75846.27684,79046.3017,9646.956726,10139.72719,10954.52047,10008.44968,10379.95406,9499.813266,9109.78323,6237.760798,6608.437261,7333.703476,8882.470441,8930.528559,9262.111018,10071.26831,11233.71103,304974.7155,332855.1134,340044.401,343835.298,382768.6347,7221.186853,7421.191279,8273.18278,8360.871567,8925.643,341.0699427,378.5458134,376.541407,438.4704815,490.4524016,16067.39963,16065.72964,18816.543,20984.96512,21908.63459,965.9099024,976.5989062,964.6206187,981.0182827,1104.824918,3990.700945,4125.547019,4384.53388,3926.530096,3935.141218,6680.215,7007.756,6872.4132,7532.8892,7974.103496,222477.2526,212961.7198,158107.5991,176001.4707,208611.6668,4179.657303,4136.962949,3495.511376,4649.730453,5144.7794,26285.37091,26413.35934,22481.35589,21089.78515,20266.81991,32045.18834,36996.83119,42879.55587,45130.60304,49370.289,5390.204806,5357.414958,3703.609413,4201.911692,4701.557302,28791.51698,28070.74907,29503.65465,28615.00851,29103.13228,24682.9194,25551.70682,29524.9765,31880.04439,35050.08054,12435.15194,9924.265092,8347.214145,8133.954556,8546.039087,18358.7742,17253.65137,15265.76034,16289.95954,16940.32316],\"xaxis\":\"x2\",\"yaxis\":\"y2\",\"type\":\"box\"}],                        {\"template\":{\"data\":{\"histogram2dcontour\":[{\"type\":\"histogram2dcontour\",\"colorbar\":{\"outlinewidth\":0,\"ticks\":\"\"},\"colorscale\":[[0.0,\"#0d0887\"],[0.1111111111111111,\"#46039f\"],[0.2222222222222222,\"#7201a8\"],[0.3333333333333333,\"#9c179e\"],[0.4444444444444444,\"#bd3786\"],[0.5555555555555556,\"#d8576b\"],[0.6666666666666666,\"#ed7953\"],[0.7777777777777778,\"#fb9f3a\"],[0.8888888888888888,\"#fdca26\"],[1.0,\"#f0f921\"]]}],\"choropleth\":[{\"type\":\"choropleth\",\"colorbar\":{\"outlinewidth\":0,\"ticks\":\"\"}}],\"histogram2d\":[{\"type\":\"histogram2d\",\"colorbar\":{\"outlinewidth\":0,\"ticks\":\"\"},\"colorscale\":[[0.0,\"#0d0887\"],[0.1111111111111111,\"#46039f\"],[0.2222222222222222,\"#7201a8\"],[0.3333333333333333,\"#9c179e\"],[0.4444444444444444,\"#bd3786\"],[0.5555555555555556,\"#d8576b\"],[0.6666666666666666,\"#ed7953\"],[0.7777777777777778,\"#fb9f3a\"],[0.8888888888888888,\"#fdca26\"],[1.0,\"#f0f921\"]]}],\"heatmap\":[{\"type\":\"heatmap\",\"colorbar\":{\"outlinewidth\":0,\"ticks\":\"\"},\"colorscale\":[[0.0,\"#0d0887\"],[0.1111111111111111,\"#46039f\"],[0.2222222222222222,\"#7201a8\"],[0.3333333333333333,\"#9c179e\"],[0.4444444444444444,\"#bd3786\"],[0.5555555555555556,\"#d8576b\"],[0.6666666666666666,\"#ed7953\"],[0.7777777777777778,\"#fb9f3a\"],[0.8888888888888888,\"#fdca26\"],[1.0,\"#f0f921\"]]}],\"heatmapgl\":[{\"type\":\"heatmapgl\",\"colorbar\":{\"outlinewidth\":0,\"ticks\":\"\"},\"colorscale\":[[0.0,\"#0d0887\"],[0.1111111111111111,\"#46039f\"],[0.2222222222222222,\"#7201a8\"],[0.3333333333333333,\"#9c179e\"],[0.4444444444444444,\"#bd3786\"],[0.5555555555555556,\"#d8576b\"],[0.6666666666666666,\"#ed7953\"],[0.7777777777777778,\"#fb9f3a\"],[0.8888888888888888,\"#fdca26\"],[1.0,\"#f0f921\"]]}],\"contourcarpet\":[{\"type\":\"contourcarpet\",\"colorbar\":{\"outlinewidth\":0,\"ticks\":\"\"}}],\"contour\":[{\"type\":\"contour\",\"colorbar\":{\"outlinewidth\":0,\"ticks\":\"\"},\"colorscale\":[[0.0,\"#0d0887\"],[0.1111111111111111,\"#46039f\"],[0.2222222222222222,\"#7201a8\"],[0.3333333333333333,\"#9c179e\"],[0.4444444444444444,\"#bd3786\"],[0.5555555555555556,\"#d8576b\"],[0.6666666666666666,\"#ed7953\"],[0.7777777777777778,\"#fb9f3a\"],[0.8888888888888888,\"#fdca26\"],[1.0,\"#f0f921\"]]}],\"surface\":[{\"type\":\"surface\",\"colorbar\":{\"outlinewidth\":0,\"ticks\":\"\"},\"colorscale\":[[0.0,\"#0d0887\"],[0.1111111111111111,\"#46039f\"],[0.2222222222222222,\"#7201a8\"],[0.3333333333333333,\"#9c179e\"],[0.4444444444444444,\"#bd3786\"],[0.5555555555555556,\"#d8576b\"],[0.6666666666666666,\"#ed7953\"],[0.7777777777777778,\"#fb9f3a\"],[0.8888888888888888,\"#fdca26\"],[1.0,\"#f0f921\"]]}],\"mesh3d\":[{\"type\":\"mesh3d\",\"colorbar\":{\"outlinewidth\":0,\"ticks\":\"\"}}],\"scatter\":[{\"fillpattern\":{\"fillmode\":\"overlay\",\"size\":10,\"solidity\":0.2},\"type\":\"scatter\"}],\"parcoords\":[{\"type\":\"parcoords\",\"line\":{\"colorbar\":{\"outlinewidth\":0,\"ticks\":\"\"}}}],\"scatterpolargl\":[{\"type\":\"scatterpolargl\",\"marker\":{\"colorbar\":{\"outlinewidth\":0,\"ticks\":\"\"}}}],\"bar\":[{\"error_x\":{\"color\":\"#2a3f5f\"},\"error_y\":{\"color\":\"#2a3f5f\"},\"marker\":{\"line\":{\"color\":\"#E5ECF6\",\"width\":0.5},\"pattern\":{\"fillmode\":\"overlay\",\"size\":10,\"solidity\":0.2}},\"type\":\"bar\"}],\"scattergeo\":[{\"type\":\"scattergeo\",\"marker\":{\"colorbar\":{\"outlinewidth\":0,\"ticks\":\"\"}}}],\"scatterpolar\":[{\"type\":\"scatterpolar\",\"marker\":{\"colorbar\":{\"outlinewidth\":0,\"ticks\":\"\"}}}],\"histogram\":[{\"marker\":{\"pattern\":{\"fillmode\":\"overlay\",\"size\":10,\"solidity\":0.2}},\"type\":\"histogram\"}],\"scattergl\":[{\"type\":\"scattergl\",\"marker\":{\"colorbar\":{\"outlinewidth\":0,\"ticks\":\"\"}}}],\"scatter3d\":[{\"type\":\"scatter3d\",\"line\":{\"colorbar\":{\"outlinewidth\":0,\"ticks\":\"\"}},\"marker\":{\"colorbar\":{\"outlinewidth\":0,\"ticks\":\"\"}}}],\"scattermapbox\":[{\"type\":\"scattermapbox\",\"marker\":{\"colorbar\":{\"outlinewidth\":0,\"ticks\":\"\"}}}],\"scatterternary\":[{\"type\":\"scatterternary\",\"marker\":{\"colorbar\":{\"outlinewidth\":0,\"ticks\":\"\"}}}],\"scattercarpet\":[{\"type\":\"scattercarpet\",\"marker\":{\"colorbar\":{\"outlinewidth\":0,\"ticks\":\"\"}}}],\"carpet\":[{\"aaxis\":{\"endlinecolor\":\"#2a3f5f\",\"gridcolor\":\"white\",\"linecolor\":\"white\",\"minorgridcolor\":\"white\",\"startlinecolor\":\"#2a3f5f\"},\"baxis\":{\"endlinecolor\":\"#2a3f5f\",\"gridcolor\":\"white\",\"linecolor\":\"white\",\"minorgridcolor\":\"white\",\"startlinecolor\":\"#2a3f5f\"},\"type\":\"carpet\"}],\"table\":[{\"cells\":{\"fill\":{\"color\":\"#EBF0F8\"},\"line\":{\"color\":\"white\"}},\"header\":{\"fill\":{\"color\":\"#C8D4E3\"},\"line\":{\"color\":\"white\"}},\"type\":\"table\"}],\"barpolar\":[{\"marker\":{\"line\":{\"color\":\"#E5ECF6\",\"width\":0.5},\"pattern\":{\"fillmode\":\"overlay\",\"size\":10,\"solidity\":0.2}},\"type\":\"barpolar\"}],\"pie\":[{\"automargin\":true,\"type\":\"pie\"}]},\"layout\":{\"autotypenumbers\":\"strict\",\"colorway\":[\"#636efa\",\"#EF553B\",\"#00cc96\",\"#ab63fa\",\"#FFA15A\",\"#19d3f3\",\"#FF6692\",\"#B6E880\",\"#FF97FF\",\"#FECB52\"],\"font\":{\"color\":\"#2a3f5f\"},\"hovermode\":\"closest\",\"hoverlabel\":{\"align\":\"left\"},\"paper_bgcolor\":\"white\",\"plot_bgcolor\":\"#E5ECF6\",\"polar\":{\"bgcolor\":\"#E5ECF6\",\"angularaxis\":{\"gridcolor\":\"white\",\"linecolor\":\"white\",\"ticks\":\"\"},\"radialaxis\":{\"gridcolor\":\"white\",\"linecolor\":\"white\",\"ticks\":\"\"}},\"ternary\":{\"bgcolor\":\"#E5ECF6\",\"aaxis\":{\"gridcolor\":\"white\",\"linecolor\":\"white\",\"ticks\":\"\"},\"baxis\":{\"gridcolor\":\"white\",\"linecolor\":\"white\",\"ticks\":\"\"},\"caxis\":{\"gridcolor\":\"white\",\"linecolor\":\"white\",\"ticks\":\"\"}},\"coloraxis\":{\"colorbar\":{\"outlinewidth\":0,\"ticks\":\"\"}},\"colorscale\":{\"sequential\":[[0.0,\"#0d0887\"],[0.1111111111111111,\"#46039f\"],[0.2222222222222222,\"#7201a8\"],[0.3333333333333333,\"#9c179e\"],[0.4444444444444444,\"#bd3786\"],[0.5555555555555556,\"#d8576b\"],[0.6666666666666666,\"#ed7953\"],[0.7777777777777778,\"#fb9f3a\"],[0.8888888888888888,\"#fdca26\"],[1.0,\"#f0f921\"]],\"sequentialminus\":[[0.0,\"#0d0887\"],[0.1111111111111111,\"#46039f\"],[0.2222222222222222,\"#7201a8\"],[0.3333333333333333,\"#9c179e\"],[0.4444444444444444,\"#bd3786\"],[0.5555555555555556,\"#d8576b\"],[0.6666666666666666,\"#ed7953\"],[0.7777777777777778,\"#fb9f3a\"],[0.8888888888888888,\"#fdca26\"],[1.0,\"#f0f921\"]],\"diverging\":[[0,\"#8e0152\"],[0.1,\"#c51b7d\"],[0.2,\"#de77ae\"],[0.3,\"#f1b6da\"],[0.4,\"#fde0ef\"],[0.5,\"#f7f7f7\"],[0.6,\"#e6f5d0\"],[0.7,\"#b8e186\"],[0.8,\"#7fbc41\"],[0.9,\"#4d9221\"],[1,\"#276419\"]]},\"xaxis\":{\"gridcolor\":\"white\",\"linecolor\":\"white\",\"ticks\":\"\",\"title\":{\"standoff\":15},\"zerolinecolor\":\"white\",\"automargin\":true,\"zerolinewidth\":2},\"yaxis\":{\"gridcolor\":\"white\",\"linecolor\":\"white\",\"ticks\":\"\",\"title\":{\"standoff\":15},\"zerolinecolor\":\"white\",\"automargin\":true,\"zerolinewidth\":2},\"scene\":{\"xaxis\":{\"backgroundcolor\":\"#E5ECF6\",\"gridcolor\":\"white\",\"linecolor\":\"white\",\"showbackground\":true,\"ticks\":\"\",\"zerolinecolor\":\"white\",\"gridwidth\":2},\"yaxis\":{\"backgroundcolor\":\"#E5ECF6\",\"gridcolor\":\"white\",\"linecolor\":\"white\",\"showbackground\":true,\"ticks\":\"\",\"zerolinecolor\":\"white\",\"gridwidth\":2},\"zaxis\":{\"backgroundcolor\":\"#E5ECF6\",\"gridcolor\":\"white\",\"linecolor\":\"white\",\"showbackground\":true,\"ticks\":\"\",\"zerolinecolor\":\"white\",\"gridwidth\":2}},\"shapedefaults\":{\"line\":{\"color\":\"#2a3f5f\"}},\"annotationdefaults\":{\"arrowcolor\":\"#2a3f5f\",\"arrowhead\":0,\"arrowwidth\":1},\"geo\":{\"bgcolor\":\"white\",\"landcolor\":\"#E5ECF6\",\"subunitcolor\":\"white\",\"showland\":true,\"showlakes\":true,\"lakecolor\":\"white\"},\"title\":{\"x\":0.05},\"mapbox\":{\"style\":\"light\"}}},\"xaxis\":{\"anchor\":\"y\",\"domain\":[0.0,1.0],\"title\":{\"text\":\"Household final consumption expenditure (current US$)\"}},\"yaxis\":{\"anchor\":\"x\",\"domain\":[0.0,0.8316],\"title\":{\"text\":\"count\"}},\"xaxis2\":{\"anchor\":\"y2\",\"domain\":[0.0,1.0],\"matches\":\"x\",\"showticklabels\":false,\"showgrid\":true},\"yaxis2\":{\"anchor\":\"x2\",\"domain\":[0.8416,1.0],\"matches\":\"y2\",\"showticklabels\":false,\"showline\":false,\"ticks\":\"\",\"showgrid\":false},\"legend\":{\"tracegroupgap\":0},\"title\":{\"text\":\"Distribution of household\"},\"barmode\":\"relative\",\"bargap\":0.1},                        {\"responsive\": true}                    ).then(function(){\n",
              "                            \n",
              "var gd = document.getElementById('64208786-7a58-4239-8f81-623eab4f0243');\n",
              "var x = new MutationObserver(function (mutations, observer) {{\n",
              "        var display = window.getComputedStyle(gd).display;\n",
              "        if (!display || display === 'none') {{\n",
              "            console.log([gd, 'removed!']);\n",
              "            Plotly.purge(gd);\n",
              "            observer.disconnect();\n",
              "        }}\n",
              "}});\n",
              "\n",
              "// Listen for the removal of the full notebook cells\n",
              "var notebookContainer = gd.closest('#notebook-container');\n",
              "if (notebookContainer) {{\n",
              "    x.observe(notebookContainer, {childList: true});\n",
              "}}\n",
              "\n",
              "// Listen for the clearing of the current output cell\n",
              "var outputEl = gd.closest('.output');\n",
              "if (outputEl) {{\n",
              "    x.observe(outputEl, {childList: true});\n",
              "}}\n",
              "\n",
              "                        })                };                            </script>        </div>\n",
              "</body>\n",
              "</html>"
            ]
          },
          "metadata": {}
        }
      ]
    },
    {
      "cell_type": "markdown",
      "source": [
        "Line plot representing the inflation on African market"
      ],
      "metadata": {
        "id": "6ICLoYb3v3j8"
      }
    },
    {
      "cell_type": "code",
      "source": [
        "df.plot( 'Year','Inflation, consumer prices (annual %)'  )"
      ],
      "metadata": {
        "colab": {
          "base_uri": "https://localhost:8080/",
          "height": 466
        },
        "id": "ESjVx9Xhtok7",
        "outputId": "59f564e3-04cd-4a8f-cb8e-bc21520afb95"
      },
      "execution_count": 47,
      "outputs": [
        {
          "output_type": "execute_result",
          "data": {
            "text/plain": [
              "<Axes: xlabel='Year'>"
            ]
          },
          "metadata": {},
          "execution_count": 47
        },
        {
          "output_type": "display_data",
          "data": {
            "text/plain": [
              "<Figure size 640x480 with 1 Axes>"
            ],
            "image/png": "[encoded data removed]"
          },
          "metadata": {}
        }
      ]
    },
    {
      "cell_type": "markdown",
      "source": [
        "###Conclusion"
      ],
      "metadata": {
        "id": "Vz8I_yQZI-ow"
      }
    },
    {
      "cell_type": "markdown",
      "source": [
        "#inflation#\n",
        " Zimbabwe is found to be the country that is hit the most by infation in year 2020, followed by sudan in the same year."
      ],
      "metadata": {
        "id": "INQzHZ2eJNb9"
      }
    },
    {
      "cell_type": "code",
      "source": [
        "df['Household final consumption expenditure (current US$)'].describe()"
      ],
      "metadata": {
        "colab": {
          "base_uri": "https://localhost:8080/"
        },
        "id": "OTMZCqUGHclg",
        "outputId": "67df8b2f-f259-46a2-ad78-68c4e4317d21"
      },
      "execution_count": 50,
      "outputs": [
        {
          "output_type": "execute_result",
          "data": {
            "text/plain": [
              "count       270.000000\n",
              "mean      30890.761008\n",
              "std       63474.342697\n",
              "min         341.069943\n",
              "25%        3949.031150\n",
              "50%        9527.405193\n",
              "75%       28591.172170\n",
              "max      382768.634700\n",
              "Name: Household final consumption expenditure (current US$), dtype: float64"
            ]
          },
          "metadata": {},
          "execution_count": 50
        }
      ]
    },
    {
      "cell_type": "markdown",
      "source": [
        "##Household Consumption##\n",
        "Nigeria is leading in household consumption in the year 2022 and the following are statistical explanation of what really conspired\n",
        "\n"
      ],
      "metadata": {
        "id": "p0kyz-y_KZxV"
      }
    },
    {
      "cell_type": "markdown",
      "source": [
        "Among consumers on the African market, \n",
        "The average expenditure behavior is revealed to be 30890.761008, allowing us to determine the mean.\n",
        "\n",
        "Minimum value is 341.069943 which is the lowest household consumption.\n",
        "\n",
        "Maximum value is 382768.634700 which is the most household consumption"
      ],
      "metadata": {
        "id": "lnoSH2sjLGkv"
      }
    },
    {
      "cell_type": "code",
      "source": [],
      "metadata": {
        "id": "DRgLlsrPNIeg"
      },
      "execution_count": null,
      "outputs": []
    }
  ]
}